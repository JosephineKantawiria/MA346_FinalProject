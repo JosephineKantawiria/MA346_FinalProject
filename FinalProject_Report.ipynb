{
 "cells": [
  {
   "cell_type": "markdown",
   "source": "# MA346 Final Project: U.S. College Recommender System\n// Josephine Kantawiria - MA346 Summer 2021 //\n\n## Introduction\n\n### Purpose of Project\n\nChoosing a college is one of the major decisions every student needs to make as it plays a pivotal role in their career and life. However, choosing an appropriate college can be challenging. The college selection process also require a lot of searching work.\n\nThis project will focus on assisting students in choosing their college based on basic variables. It will provide the user with top 5 U.S. colleges that are deemed most suitable for the student's preference and eligibility, which the user can input. Users will be asked to input information such as: preferred location, SAT score, maximum tuition that they would accept, as well as their student status (if they are international, local out of state, or local in state). As many individuals have different needs and concerns about their college eligibility and requirements, users are also able to weigh the importance of each of the predictor variables from a scale of 1 to 10.\n\nThis college recommender system will then evaluate these different factors and display the top 5 U.S. college recommendations in the most user-friendly design. The college recommender system will then calculate a compatibility score between 0 and 1, with 1 being the most compatible and return the 5 universities with compatibility score closest to 1 to show all of the colleges that are most compatible for the user.\n\nTo check out the fully functioning Streamlit dashboard, please visit [this link](https://josephinekantawiria.herokuapp.com). More information can be found [here](https://github.com/JosephineKantawiria/MA346_FinalProject) on my GitHub repo.\n\n## Data Pre-processing\n\n### Load Data\n\nFor this project, we will be using two datasets - both in CSV file format. The first dataset can be accessed through the [U.S. Depatment of Education](https://data.ed.gov/dataset/college-scorecard-all-data-files-through-6-2020/resources) under the College Scorecard project resources. The College Scorecard provides data files with data about institutions as a whole and data files with data about specific fields of study within institutions. We will be using the first dataset that provide all data elements. Many data elements within the two data files are drawn directly from, or derived from, data reported to the Integrated Postsecondary Education Data System (IPEDS). The data also came with a data dictionary, which will be broken down later. Since the dataset was large, we already went ahead and hand-picked all the columns that are needed for this project.\n\nThe second dataset can be accessed from [kaggle.com](https://www.kaggle.com/joeshamen/world-university-rankings-2020). It is a dataset that comprises the ranking of the best universities of the world made by The Times Higher Education for 2020. It includes almost 1,400 universities across 92 countries, standing as the largest and most diverse university rankings ever to date. The rankings are determined based on 13 performance indicators that measure an institution’s performance across teaching, research, knowledge transfer and international outlook. The university ranking also has been independently audited by professional services firm PricewaterhouseCoopers. This information will be used to determine the rankings of the universities listed in the first dataframe, providing a more holistic view of the university's performance.  \n\nThe packages we will be using for this project are `Pandas`, `NumPy`, `Sklearn`, and `Streamlit`.",
   "metadata": {
    "tags": [],
    "cell_id": "00000-7eea3db3-acdb-4544-a10f-0392a2564b46",
    "deepnote_cell_type": "markdown"
   }
  },
  {
   "cell_type": "code",
   "metadata": {
    "tags": [],
    "cell_id": "00000-e2d966a0-74ef-4cd9-9a16-952fc8fb6181",
    "deepnote_to_be_reexecuted": false,
    "source_hash": "f05da281",
    "execution_start": 1624989565926,
    "execution_millis": 2910,
    "deepnote_cell_type": "code"
   },
   "source": "# Load packages\nimport pandas as pd\nimport numpy as np\nfrom sklearn import preprocessing\nimport streamlit as st\n\n# Load data\ndf1 = pd.read_csv('Most-Recent-Cohorts-All-Data-Elements.csv')\ndf2 = pd.read_csv('World_University_Rank_2020.csv')",
   "execution_count": 1,
   "outputs": []
  },
  {
   "cell_type": "markdown",
   "source": "All packages are imported and loaded. The first dataset is stored into DataFrame `df1` and the second dataset into DataFrame `df2`. After loading both data into two DataFrames, we can view the first few rows of each DataFrame.",
   "metadata": {
    "tags": [],
    "cell_id": "00002-a1c5af45-22ee-4774-86f1-caeef648f68f",
    "deepnote_cell_type": "markdown"
   }
  },
  {
   "cell_type": "code",
   "metadata": {
    "tags": [],
    "cell_id": "00002-774b13f5-dc78-4919-b34e-e73135316757",
    "deepnote_to_be_reexecuted": false,
    "source_hash": "ec99f889",
    "execution_start": 1624989568844,
    "execution_millis": 166,
    "deepnote_cell_type": "code"
   },
   "source": "# View first few rows of df1\ndf1.head()",
   "execution_count": 2,
   "outputs": [
    {
     "output_type": "execute_result",
     "execution_count": 2,
     "data": {
      "application/vnd.deepnote.dataframe.v2+json": {
       "row_count": 5,
       "column_count": 9,
       "columns": [
        {
         "name": "INSTNM",
         "dtype": "object",
         "stats": {
          "unique_count": 5,
          "nan_count": 0,
          "categories": [
           {
            "name": "Alabama A & M University",
            "count": 1
           },
           {
            "name": "University of Alabama at Birmingham",
            "count": 1
           },
           {
            "name": "3 others",
            "count": 3
           }
          ]
         }
        },
        {
         "name": "CITY",
         "dtype": "object",
         "stats": {
          "unique_count": 4,
          "nan_count": 0,
          "categories": [
           {
            "name": "Montgomery",
            "count": 2
           },
           {
            "name": "Normal",
            "count": 1
           },
           {
            "name": "2 others",
            "count": 2
           }
          ]
         }
        },
        {
         "name": "STABBR",
         "dtype": "object",
         "stats": {
          "unique_count": 1,
          "nan_count": 0,
          "categories": [
           {
            "name": "AL",
            "count": 5
           }
          ]
         }
        },
        {
         "name": "LATITUDE",
         "dtype": "float64",
         "stats": {
          "unique_count": 5,
          "nan_count": 0,
          "min": "32.362609",
          "max": "34.783368",
          "histogram": [
           {
            "bin_start": 32.362609,
            "bin_end": 32.6046849,
            "count": 2
           },
           {
            "bin_start": 32.6046849,
            "bin_end": 32.8467608,
            "count": 0
           },
           {
            "bin_start": 32.8467608,
            "bin_end": 33.0888367,
            "count": 0
           },
           {
            "bin_start": 33.0888367,
            "bin_end": 33.3309126,
            "count": 0
           },
           {
            "bin_start": 33.3309126,
            "bin_end": 33.5729885,
            "count": 1
           },
           {
            "bin_start": 33.5729885,
            "bin_end": 33.815064400000004,
            "count": 0
           },
           {
            "bin_start": 33.815064400000004,
            "bin_end": 34.0571403,
            "count": 0
           },
           {
            "bin_start": 34.0571403,
            "bin_end": 34.299216200000004,
            "count": 0
           },
           {
            "bin_start": 34.299216200000004,
            "bin_end": 34.5412921,
            "count": 0
           },
           {
            "bin_start": 34.5412921,
            "bin_end": 34.783368,
            "count": 2
           }
          ]
         }
        },
        {
         "name": "LONGITUDE",
         "dtype": "float64",
         "stats": {
          "unique_count": 5,
          "nan_count": 0,
          "min": "-86.799345",
          "max": "-86.17401",
          "histogram": [
           {
            "bin_start": -86.799345,
            "bin_end": -86.7368115,
            "count": 1
           },
           {
            "bin_start": -86.7368115,
            "bin_end": -86.674278,
            "count": 0
           },
           {
            "bin_start": -86.674278,
            "bin_end": -86.6117445,
            "count": 1
           },
           {
            "bin_start": -86.6117445,
            "bin_end": -86.549211,
            "count": 1
           },
           {
            "bin_start": -86.549211,
            "bin_end": -86.4866775,
            "count": 0
           },
           {
            "bin_start": -86.4866775,
            "bin_end": -86.424144,
            "count": 0
           },
           {
            "bin_start": -86.424144,
            "bin_end": -86.3616105,
            "count": 0
           },
           {
            "bin_start": -86.3616105,
            "bin_end": -86.299077,
            "count": 0
           },
           {
            "bin_start": -86.299077,
            "bin_end": -86.2365435,
            "count": 1
           },
           {
            "bin_start": -86.2365435,
            "bin_end": -86.17401,
            "count": 1
           }
          ]
         }
        },
        {
         "name": "ADM_RATE",
         "dtype": "float64",
         "stats": {
          "unique_count": 4,
          "nan_count": 1,
          "min": "0.8087",
          "max": "0.9774",
          "histogram": [
           {
            "bin_start": 0.8087,
            "bin_end": 0.82557,
            "count": 1
           },
           {
            "bin_start": 0.82557,
            "bin_end": 0.84244,
            "count": 0
           },
           {
            "bin_start": 0.84244,
            "bin_end": 0.85931,
            "count": 0
           },
           {
            "bin_start": 0.85931,
            "bin_end": 0.87618,
            "count": 0
           },
           {
            "bin_start": 0.87618,
            "bin_end": 0.89305,
            "count": 0
           },
           {
            "bin_start": 0.89305,
            "bin_end": 0.9099200000000001,
            "count": 1
           },
           {
            "bin_start": 0.9099200000000001,
            "bin_end": 0.92679,
            "count": 1
           },
           {
            "bin_start": 0.92679,
            "bin_end": 0.94366,
            "count": 0
           },
           {
            "bin_start": 0.94366,
            "bin_end": 0.96053,
            "count": 0
           },
           {
            "bin_start": 0.96053,
            "bin_end": 0.9774,
            "count": 1
           }
          ]
         }
        },
        {
         "name": "SAT_AVG",
         "dtype": "float64",
         "stats": {
          "unique_count": 4,
          "nan_count": 1,
          "min": "957.0",
          "max": "1314.0",
          "histogram": [
           {
            "bin_start": 957,
            "bin_end": 992.7,
            "count": 2
           },
           {
            "bin_start": 992.7,
            "bin_end": 1028.4,
            "count": 0
           },
           {
            "bin_start": 1028.4,
            "bin_end": 1064.1,
            "count": 0
           },
           {
            "bin_start": 1064.1,
            "bin_end": 1099.8,
            "count": 0
           },
           {
            "bin_start": 1099.8,
            "bin_end": 1135.5,
            "count": 0
           },
           {
            "bin_start": 1135.5,
            "bin_end": 1171.2,
            "count": 0
           },
           {
            "bin_start": 1171.2,
            "bin_end": 1206.9,
            "count": 0
           },
           {
            "bin_start": 1206.9,
            "bin_end": 1242.6,
            "count": 1
           },
           {
            "bin_start": 1242.6,
            "bin_end": 1278.3,
            "count": 0
           },
           {
            "bin_start": 1278.3,
            "bin_end": 1314,
            "count": 1
           }
          ]
         }
        },
        {
         "name": "TUITIONFEE_IN",
         "dtype": "float64",
         "stats": {
          "unique_count": 5,
          "nan_count": 0,
          "min": "6900.0",
          "max": "11068.0",
          "histogram": [
           {
            "bin_start": 6900,
            "bin_end": 7316.8,
            "count": 1
           },
           {
            "bin_start": 7316.8,
            "bin_end": 7733.6,
            "count": 0
           },
           {
            "bin_start": 7733.6,
            "bin_end": 8150.4,
            "count": 0
           },
           {
            "bin_start": 8150.4,
            "bin_end": 8567.2,
            "count": 0
           },
           {
            "bin_start": 8567.2,
            "bin_end": 8984,
            "count": 1
           },
           {
            "bin_start": 8984,
            "bin_end": 9400.8,
            "count": 0
           },
           {
            "bin_start": 9400.8,
            "bin_end": 9817.6,
            "count": 1
           },
           {
            "bin_start": 9817.6,
            "bin_end": 10234.4,
            "count": 0
           },
           {
            "bin_start": 10234.4,
            "bin_end": 10651.2,
            "count": 0
           },
           {
            "bin_start": 10651.2,
            "bin_end": 11068,
            "count": 2
           }
          ]
         }
        },
        {
         "name": "TUITIONFEE_OUT",
         "dtype": "float64",
         "stats": {
          "unique_count": 5,
          "nan_count": 0,
          "min": "6900.0",
          "max": "22362.0",
          "histogram": [
           {
            "bin_start": 6900,
            "bin_end": 8446.2,
            "count": 1
           },
           {
            "bin_start": 8446.2,
            "bin_end": 9992.4,
            "count": 0
           },
           {
            "bin_start": 9992.4,
            "bin_end": 11538.6,
            "count": 0
           },
           {
            "bin_start": 11538.6,
            "bin_end": 13084.8,
            "count": 0
           },
           {
            "bin_start": 13084.8,
            "bin_end": 14631,
            "count": 0
           },
           {
            "bin_start": 14631,
            "bin_end": 16177.2,
            "count": 0
           },
           {
            "bin_start": 16177.2,
            "bin_end": 17723.4,
            "count": 0
           },
           {
            "bin_start": 17723.4,
            "bin_end": 19269.6,
            "count": 1
           },
           {
            "bin_start": 19269.6,
            "bin_end": 20815.800000000003,
            "count": 2
           },
           {
            "bin_start": 20815.800000000003,
            "bin_end": 22362,
            "count": 1
           }
          ]
         }
        },
        {
         "name": "_deepnote_index_column",
         "dtype": "int64"
        }
       ],
       "rows_top": [
        {
         "INSTNM": "Alabama A & M University",
         "CITY": "Normal",
         "STABBR": "AL",
         "LATITUDE": 34.783368,
         "LONGITUDE": -86.568502,
         "ADM_RATE": 0.8986,
         "SAT_AVG": 957,
         "TUITIONFEE_IN": 9744,
         "TUITIONFEE_OUT": 18354,
         "_deepnote_index_column": 0
        },
        {
         "INSTNM": "University of Alabama at Birmingham",
         "CITY": "Birmingham",
         "STABBR": "AL",
         "LATITUDE": 33.505697,
         "LONGITUDE": -86.799345,
         "ADM_RATE": 0.9211,
         "SAT_AVG": 1220,
         "TUITIONFEE_IN": 8568,
         "TUITIONFEE_OUT": 19704,
         "_deepnote_index_column": 1
        },
        {
         "INSTNM": "Amridge University",
         "CITY": "Montgomery",
         "STABBR": "AL",
         "LATITUDE": 32.362609,
         "LONGITUDE": -86.17401,
         "ADM_RATE": "nan",
         "SAT_AVG": "nan",
         "TUITIONFEE_IN": 6900,
         "TUITIONFEE_OUT": 6900,
         "_deepnote_index_column": 2
        },
        {
         "INSTNM": "University of Alabama in Huntsville",
         "CITY": "Huntsville",
         "STABBR": "AL",
         "LATITUDE": 34.724557,
         "LONGITUDE": -86.640449,
         "ADM_RATE": 0.8087,
         "SAT_AVG": 1314,
         "TUITIONFEE_IN": 10714,
         "TUITIONFEE_OUT": 22362,
         "_deepnote_index_column": 3
        },
        {
         "INSTNM": "Alabama State University",
         "CITY": "Montgomery",
         "STABBR": "AL",
         "LATITUDE": 32.364317,
         "LONGITUDE": -86.295677,
         "ADM_RATE": 0.9774,
         "SAT_AVG": 972,
         "TUITIONFEE_IN": 11068,
         "TUITIONFEE_OUT": 19396,
         "_deepnote_index_column": 4
        }
       ],
       "rows_bottom": null
      },
      "text/plain": "                                INSTNM        CITY STABBR   LATITUDE  \\\n0             Alabama A & M University      Normal     AL  34.783368   \n1  University of Alabama at Birmingham  Birmingham     AL  33.505697   \n2                   Amridge University  Montgomery     AL  32.362609   \n3  University of Alabama in Huntsville  Huntsville     AL  34.724557   \n4             Alabama State University  Montgomery     AL  32.364317   \n\n   LONGITUDE  ADM_RATE  SAT_AVG  TUITIONFEE_IN  TUITIONFEE_OUT  \n0 -86.568502    0.8986    957.0         9744.0         18354.0  \n1 -86.799345    0.9211   1220.0         8568.0         19704.0  \n2 -86.174010       NaN      NaN         6900.0          6900.0  \n3 -86.640449    0.8087   1314.0        10714.0         22362.0  \n4 -86.295677    0.9774    972.0        11068.0         19396.0  ",
      "text/html": "<div>\n<style scoped>\n    .dataframe tbody tr th:only-of-type {\n        vertical-align: middle;\n    }\n\n    .dataframe tbody tr th {\n        vertical-align: top;\n    }\n\n    .dataframe thead th {\n        text-align: right;\n    }\n</style>\n<table border=\"1\" class=\"dataframe\">\n  <thead>\n    <tr style=\"text-align: right;\">\n      <th></th>\n      <th>INSTNM</th>\n      <th>CITY</th>\n      <th>STABBR</th>\n      <th>LATITUDE</th>\n      <th>LONGITUDE</th>\n      <th>ADM_RATE</th>\n      <th>SAT_AVG</th>\n      <th>TUITIONFEE_IN</th>\n      <th>TUITIONFEE_OUT</th>\n    </tr>\n  </thead>\n  <tbody>\n    <tr>\n      <th>0</th>\n      <td>Alabama A &amp; M University</td>\n      <td>Normal</td>\n      <td>AL</td>\n      <td>34.783368</td>\n      <td>-86.568502</td>\n      <td>0.8986</td>\n      <td>957.0</td>\n      <td>9744.0</td>\n      <td>18354.0</td>\n    </tr>\n    <tr>\n      <th>1</th>\n      <td>University of Alabama at Birmingham</td>\n      <td>Birmingham</td>\n      <td>AL</td>\n      <td>33.505697</td>\n      <td>-86.799345</td>\n      <td>0.9211</td>\n      <td>1220.0</td>\n      <td>8568.0</td>\n      <td>19704.0</td>\n    </tr>\n    <tr>\n      <th>2</th>\n      <td>Amridge University</td>\n      <td>Montgomery</td>\n      <td>AL</td>\n      <td>32.362609</td>\n      <td>-86.174010</td>\n      <td>NaN</td>\n      <td>NaN</td>\n      <td>6900.0</td>\n      <td>6900.0</td>\n    </tr>\n    <tr>\n      <th>3</th>\n      <td>University of Alabama in Huntsville</td>\n      <td>Huntsville</td>\n      <td>AL</td>\n      <td>34.724557</td>\n      <td>-86.640449</td>\n      <td>0.8087</td>\n      <td>1314.0</td>\n      <td>10714.0</td>\n      <td>22362.0</td>\n    </tr>\n    <tr>\n      <th>4</th>\n      <td>Alabama State University</td>\n      <td>Montgomery</td>\n      <td>AL</td>\n      <td>32.364317</td>\n      <td>-86.295677</td>\n      <td>0.9774</td>\n      <td>972.0</td>\n      <td>11068.0</td>\n      <td>19396.0</td>\n    </tr>\n  </tbody>\n</table>\n</div>"
     },
     "metadata": {}
    }
   ]
  },
  {
   "cell_type": "markdown",
   "source": "We can derive that the first DataFrame, `df1`, has a total of 9 columns. We will do the same for the second DataFrame, `df2`, to explore the data.",
   "metadata": {
    "tags": [],
    "cell_id": "00004-d2251645-9f1d-43d7-a7eb-46f72022082d",
    "deepnote_cell_type": "markdown"
   }
  },
  {
   "cell_type": "code",
   "metadata": {
    "tags": [],
    "cell_id": "00003-e6dd5af4-13ef-4055-ae00-2e0f59eb07d9",
    "deepnote_to_be_reexecuted": false,
    "source_hash": "34774053",
    "execution_start": 1624989569003,
    "execution_millis": 163,
    "deepnote_cell_type": "code"
   },
   "source": "# View first few rows of df2\ndf2.head()",
   "execution_count": 3,
   "outputs": [
    {
     "output_type": "execute_result",
     "execution_count": 3,
     "data": {
      "application/vnd.deepnote.dataframe.v2+json": {
       "row_count": 5,
       "column_count": 16,
       "columns": [
        {
         "name": "Rank_Char",
         "dtype": "object",
         "stats": {
          "unique_count": 5,
          "nan_count": 0,
          "categories": [
           {
            "name": "1",
            "count": 1
           },
           {
            "name": "2",
            "count": 1
           },
           {
            "name": "3 others",
            "count": 3
           }
          ]
         }
        },
        {
         "name": "Score_Rank",
         "dtype": "int64",
         "stats": {
          "unique_count": 5,
          "nan_count": 0,
          "min": "1",
          "max": "5",
          "histogram": [
           {
            "bin_start": 1,
            "bin_end": 1.4,
            "count": 1
           },
           {
            "bin_start": 1.4,
            "bin_end": 1.8,
            "count": 0
           },
           {
            "bin_start": 1.8,
            "bin_end": 2.2,
            "count": 1
           },
           {
            "bin_start": 2.2,
            "bin_end": 2.6,
            "count": 0
           },
           {
            "bin_start": 2.6,
            "bin_end": 3,
            "count": 0
           },
           {
            "bin_start": 3,
            "bin_end": 3.4000000000000004,
            "count": 1
           },
           {
            "bin_start": 3.4000000000000004,
            "bin_end": 3.8000000000000003,
            "count": 0
           },
           {
            "bin_start": 3.8000000000000003,
            "bin_end": 4.2,
            "count": 1
           },
           {
            "bin_start": 4.2,
            "bin_end": 4.6,
            "count": 0
           },
           {
            "bin_start": 4.6,
            "bin_end": 5,
            "count": 1
           }
          ]
         }
        },
        {
         "name": "University",
         "dtype": "object",
         "stats": {
          "unique_count": 5,
          "nan_count": 0,
          "categories": [
           {
            "name": "University of Oxford",
            "count": 1
           },
           {
            "name": "California Institute of Technology",
            "count": 1
           },
           {
            "name": "3 others",
            "count": 3
           }
          ]
         }
        },
        {
         "name": "Country",
         "dtype": "object",
         "stats": {
          "unique_count": 2,
          "nan_count": 0,
          "categories": [
           {
            "name": "United States",
            "count": 3
           },
           {
            "name": "United Kingdom",
            "count": 2
           }
          ]
         }
        },
        {
         "name": "Number_students",
         "dtype": "object",
         "stats": {
          "unique_count": 5,
          "nan_count": 0,
          "categories": [
           {
            "name": "20,664",
            "count": 1
           },
           {
            "name": "2,240",
            "count": 1
           },
           {
            "name": "3 others",
            "count": 3
           }
          ]
         }
        },
        {
         "name": "Numb_students_per_Staff",
         "dtype": "float64",
         "stats": {
          "unique_count": 5,
          "nan_count": 0,
          "min": "6.4",
          "max": "11.2",
          "histogram": [
           {
            "bin_start": 6.4,
            "bin_end": 6.88,
            "count": 1
           },
           {
            "bin_start": 6.88,
            "bin_end": 7.36,
            "count": 1
           },
           {
            "bin_start": 7.36,
            "bin_end": 7.84,
            "count": 0
           },
           {
            "bin_start": 7.84,
            "bin_end": 8.32,
            "count": 0
           },
           {
            "bin_start": 8.32,
            "bin_end": 8.8,
            "count": 1
           },
           {
            "bin_start": 8.8,
            "bin_end": 9.28,
            "count": 0
           },
           {
            "bin_start": 9.28,
            "bin_end": 9.76,
            "count": 0
           },
           {
            "bin_start": 9.76,
            "bin_end": 10.239999999999998,
            "count": 0
           },
           {
            "bin_start": 10.239999999999998,
            "bin_end": 10.719999999999999,
            "count": 0
           },
           {
            "bin_start": 10.719999999999999,
            "bin_end": 11.2,
            "count": 2
           }
          ]
         }
        },
        {
         "name": "International_Students",
         "dtype": "object",
         "stats": {
          "unique_count": 5,
          "nan_count": 0,
          "categories": [
           {
            "name": "41%",
            "count": 1
           },
           {
            "name": "30%",
            "count": 1
           },
           {
            "name": "3 others",
            "count": 3
           }
          ]
         }
        },
        {
         "name": "Percentage_Female",
         "dtype": "object",
         "stats": {
          "unique_count": 5,
          "nan_count": 0,
          "categories": [
           {
            "name": "46%",
            "count": 1
           },
           {
            "name": "34%",
            "count": 1
           },
           {
            "name": "3 others",
            "count": 3
           }
          ]
         }
        },
        {
         "name": "Percentage_Male",
         "dtype": "object",
         "stats": {
          "unique_count": 5,
          "nan_count": 0,
          "categories": [
           {
            "name": "54%",
            "count": 1
           },
           {
            "name": "66%",
            "count": 1
           },
           {
            "name": "3 others",
            "count": 3
           }
          ]
         }
        },
        {
         "name": "Teaching",
         "dtype": "float64",
         "stats": {
          "unique_count": 4,
          "nan_count": 0,
          "min": "90.5",
          "max": "92.8",
          "histogram": [
           {
            "bin_start": 90.5,
            "bin_end": 90.73,
            "count": 2
           },
           {
            "bin_start": 90.73,
            "bin_end": 90.96,
            "count": 0
           },
           {
            "bin_start": 90.96,
            "bin_end": 91.19,
            "count": 0
           },
           {
            "bin_start": 91.19,
            "bin_end": 91.42,
            "count": 1
           },
           {
            "bin_start": 91.42,
            "bin_end": 91.65,
            "count": 0
           },
           {
            "bin_start": 91.65,
            "bin_end": 91.88,
            "count": 0
           },
           {
            "bin_start": 91.88,
            "bin_end": 92.11,
            "count": 1
           },
           {
            "bin_start": 92.11,
            "bin_end": 92.34,
            "count": 0
           },
           {
            "bin_start": 92.34,
            "bin_end": 92.57,
            "count": 0
           },
           {
            "bin_start": 92.57,
            "bin_end": 92.8,
            "count": 1
           }
          ]
         }
        },
        {
         "name": "Research",
         "dtype": "float64",
         "stats": {
          "unique_count": 5,
          "nan_count": 0,
          "min": "92.4",
          "max": "99.6",
          "histogram": [
           {
            "bin_start": 92.4,
            "bin_end": 93.12,
            "count": 1
           },
           {
            "bin_start": 93.12,
            "bin_end": 93.84,
            "count": 0
           },
           {
            "bin_start": 93.84,
            "bin_end": 94.56,
            "count": 0
           },
           {
            "bin_start": 94.56,
            "bin_end": 95.28,
            "count": 0
           },
           {
            "bin_start": 95.28,
            "bin_end": 96,
            "count": 0
           },
           {
            "bin_start": 96,
            "bin_end": 96.72,
            "count": 1
           },
           {
            "bin_start": 96.72,
            "bin_end": 97.44,
            "count": 1
           },
           {
            "bin_start": 97.44,
            "bin_end": 98.16,
            "count": 0
           },
           {
            "bin_start": 98.16,
            "bin_end": 98.88,
            "count": 1
           },
           {
            "bin_start": 98.88,
            "bin_end": 99.6,
            "count": 1
           }
          ]
         }
        },
        {
         "name": "Citations",
         "dtype": "float64",
         "stats": {
          "unique_count": 5,
          "nan_count": 0,
          "min": "95.8",
          "max": "99.9",
          "histogram": [
           {
            "bin_start": 95.8,
            "bin_end": 96.21,
            "count": 1
           },
           {
            "bin_start": 96.21,
            "bin_end": 96.62,
            "count": 0
           },
           {
            "bin_start": 96.62,
            "bin_end": 97.03,
            "count": 0
           },
           {
            "bin_start": 97.03,
            "bin_end": 97.44,
            "count": 0
           },
           {
            "bin_start": 97.44,
            "bin_end": 97.85,
            "count": 0
           },
           {
            "bin_start": 97.85,
            "bin_end": 98.26,
            "count": 1
           },
           {
            "bin_start": 98.26,
            "bin_end": 98.67,
            "count": 1
           },
           {
            "bin_start": 98.67,
            "bin_end": 99.08,
            "count": 0
           },
           {
            "bin_start": 99.08,
            "bin_end": 99.49000000000001,
            "count": 0
           },
           {
            "bin_start": 99.49000000000001,
            "bin_end": 99.9,
            "count": 2
           }
          ]
         }
        },
        {
         "name": "Industry_Income",
         "dtype": "float64",
         "stats": {
          "unique_count": 5,
          "nan_count": 0,
          "min": "59.3",
          "max": "88.0",
          "histogram": [
           {
            "bin_start": 59.3,
            "bin_end": 62.169999999999995,
            "count": 1
           },
           {
            "bin_start": 62.169999999999995,
            "bin_end": 65.03999999999999,
            "count": 0
           },
           {
            "bin_start": 65.03999999999999,
            "bin_end": 67.91,
            "count": 2
           },
           {
            "bin_start": 67.91,
            "bin_end": 70.78,
            "count": 0
           },
           {
            "bin_start": 70.78,
            "bin_end": 73.65,
            "count": 0
           },
           {
            "bin_start": 73.65,
            "bin_end": 76.52,
            "count": 0
           },
           {
            "bin_start": 76.52,
            "bin_end": 79.39,
            "count": 0
           },
           {
            "bin_start": 79.39,
            "bin_end": 82.25999999999999,
            "count": 0
           },
           {
            "bin_start": 82.25999999999999,
            "bin_end": 85.13,
            "count": 0
           },
           {
            "bin_start": 85.13,
            "bin_end": 88,
            "count": 2
           }
          ]
         }
        },
        {
         "name": "International_Outlook",
         "dtype": "float64",
         "stats": {
          "unique_count": 5,
          "nan_count": 0,
          "min": "79.5",
          "max": "96.4",
          "histogram": [
           {
            "bin_start": 79.5,
            "bin_end": 81.19,
            "count": 1
           },
           {
            "bin_start": 81.19,
            "bin_end": 82.88,
            "count": 1
           },
           {
            "bin_start": 82.88,
            "bin_end": 84.57000000000001,
            "count": 0
           },
           {
            "bin_start": 84.57000000000001,
            "bin_end": 86.26,
            "count": 0
           },
           {
            "bin_start": 86.26,
            "bin_end": 87.95,
            "count": 0
           },
           {
            "bin_start": 87.95,
            "bin_end": 89.64,
            "count": 1
           },
           {
            "bin_start": 89.64,
            "bin_end": 91.33,
            "count": 0
           },
           {
            "bin_start": 91.33,
            "bin_end": 93.02000000000001,
            "count": 0
           },
           {
            "bin_start": 93.02000000000001,
            "bin_end": 94.71000000000001,
            "count": 0
           },
           {
            "bin_start": 94.71000000000001,
            "bin_end": 96.4,
            "count": 2
           }
          ]
         }
        },
        {
         "name": "Score_Result",
         "dtype": "float64",
         "stats": {
          "unique_count": 5,
          "nan_count": 0,
          "min": "93.6",
          "max": "95.4",
          "histogram": [
           {
            "bin_start": 93.6,
            "bin_end": 93.78,
            "count": 1
           },
           {
            "bin_start": 93.78,
            "bin_end": 93.96,
            "count": 0
           },
           {
            "bin_start": 93.96,
            "bin_end": 94.14,
            "count": 0
           },
           {
            "bin_start": 94.14,
            "bin_end": 94.32,
            "count": 1
           },
           {
            "bin_start": 94.32,
            "bin_end": 94.5,
            "count": 1
           },
           {
            "bin_start": 94.5,
            "bin_end": 94.68,
            "count": 1
           },
           {
            "bin_start": 94.68,
            "bin_end": 94.86,
            "count": 0
           },
           {
            "bin_start": 94.86,
            "bin_end": 95.04,
            "count": 0
           },
           {
            "bin_start": 95.04,
            "bin_end": 95.22,
            "count": 0
           },
           {
            "bin_start": 95.22,
            "bin_end": 95.4,
            "count": 1
           }
          ]
         }
        },
        {
         "name": "Overall_Ranking",
         "dtype": "object",
         "stats": {
          "unique_count": 5,
          "nan_count": 0,
          "categories": [
           {
            "name": "95.40",
            "count": 1
           },
           {
            "name": "94.50",
            "count": 1
           },
           {
            "name": "3 others",
            "count": 3
           }
          ]
         }
        },
        {
         "name": "_deepnote_index_column",
         "dtype": "int64"
        }
       ],
       "rows_top": [
        {
         "Rank_Char": "1",
         "Score_Rank": 1,
         "University": "University of Oxford",
         "Country": "United Kingdom",
         "Number_students": "20,664",
         "Numb_students_per_Staff": 11.2,
         "International_Students": "41%",
         "Percentage_Female": "46%",
         "Percentage_Male": "54%",
         "Teaching": 90.5,
         "Research": 99.6,
         "Citations": 98.4,
         "Industry_Income": 65.5,
         "International_Outlook": 96.4,
         "Score_Result": 95.4,
         "Overall_Ranking": "95.40",
         "_deepnote_index_column": 0
        },
        {
         "Rank_Char": "2",
         "Score_Rank": 2,
         "University": "California Institute of Technology",
         "Country": "United States",
         "Number_students": "2,240",
         "Numb_students_per_Staff": 6.4,
         "International_Students": "30%",
         "Percentage_Female": "34%",
         "Percentage_Male": "66%",
         "Teaching": 92.1,
         "Research": 97.2,
         "Citations": 97.9,
         "Industry_Income": 88,
         "International_Outlook": 82.5,
         "Score_Result": 94.5,
         "Overall_Ranking": "94.50",
         "_deepnote_index_column": 1
        },
        {
         "Rank_Char": "3",
         "Score_Rank": 3,
         "University": "University of Cambridge",
         "Country": "United Kingdom",
         "Number_students": "18,978",
         "Numb_students_per_Staff": 10.9,
         "International_Students": "37%",
         "Percentage_Female": "47%",
         "Percentage_Male": "53%",
         "Teaching": 91.4,
         "Research": 98.7,
         "Citations": 95.8,
         "Industry_Income": 59.3,
         "International_Outlook": 95,
         "Score_Result": 94.4,
         "Overall_Ranking": "94.40",
         "_deepnote_index_column": 2
        },
        {
         "Rank_Char": "4",
         "Score_Rank": 4,
         "University": "Stanford University",
         "Country": "United States",
         "Number_students": "16,135",
         "Numb_students_per_Staff": 7.3,
         "International_Students": "23%",
         "Percentage_Female": "43%",
         "Percentage_Male": "57%",
         "Teaching": 92.8,
         "Research": 96.4,
         "Citations": 99.9,
         "Industry_Income": 66.2,
         "International_Outlook": 79.5,
         "Score_Result": 94.3,
         "Overall_Ranking": "94.30",
         "_deepnote_index_column": 3
        },
        {
         "Rank_Char": "5",
         "Score_Rank": 5,
         "University": "Massachusetts Institute of Technology",
         "Country": "United States",
         "Number_students": "11,247",
         "Numb_students_per_Staff": 8.6,
         "International_Students": "34%",
         "Percentage_Female": "39%",
         "Percentage_Male": "61%",
         "Teaching": 90.5,
         "Research": 92.4,
         "Citations": 99.5,
         "Industry_Income": 86.9,
         "International_Outlook": 89,
         "Score_Result": 93.6,
         "Overall_Ranking": "93.60",
         "_deepnote_index_column": 4
        }
       ],
       "rows_bottom": null
      },
      "text/plain": "  Rank_Char  Score_Rank                             University  \\\n0         1           1                   University of Oxford   \n1         2           2     California Institute of Technology   \n2         3           3                University of Cambridge   \n3         4           4                    Stanford University   \n4         5           5  Massachusetts Institute of Technology   \n\n          Country Number_students  Numb_students_per_Staff  \\\n0  United Kingdom          20,664                     11.2   \n1   United States           2,240                      6.4   \n2  United Kingdom          18,978                     10.9   \n3   United States          16,135                      7.3   \n4   United States          11,247                      8.6   \n\n  International_Students Percentage_Female Percentage_Male  Teaching  \\\n0                    41%               46%             54%      90.5   \n1                    30%               34%             66%      92.1   \n2                    37%               47%             53%      91.4   \n3                    23%               43%             57%      92.8   \n4                    34%               39%             61%      90.5   \n\n   Research  Citations  Industry_Income  International_Outlook  Score_Result  \\\n0      99.6       98.4             65.5                   96.4          95.4   \n1      97.2       97.9             88.0                   82.5          94.5   \n2      98.7       95.8             59.3                   95.0          94.4   \n3      96.4       99.9             66.2                   79.5          94.3   \n4      92.4       99.5             86.9                   89.0          93.6   \n\n  Overall_Ranking  \n0           95.40  \n1           94.50  \n2           94.40  \n3           94.30  \n4           93.60  ",
      "text/html": "<div>\n<style scoped>\n    .dataframe tbody tr th:only-of-type {\n        vertical-align: middle;\n    }\n\n    .dataframe tbody tr th {\n        vertical-align: top;\n    }\n\n    .dataframe thead th {\n        text-align: right;\n    }\n</style>\n<table border=\"1\" class=\"dataframe\">\n  <thead>\n    <tr style=\"text-align: right;\">\n      <th></th>\n      <th>Rank_Char</th>\n      <th>Score_Rank</th>\n      <th>University</th>\n      <th>Country</th>\n      <th>Number_students</th>\n      <th>Numb_students_per_Staff</th>\n      <th>International_Students</th>\n      <th>Percentage_Female</th>\n      <th>Percentage_Male</th>\n      <th>Teaching</th>\n      <th>Research</th>\n      <th>Citations</th>\n      <th>Industry_Income</th>\n      <th>International_Outlook</th>\n      <th>Score_Result</th>\n      <th>Overall_Ranking</th>\n    </tr>\n  </thead>\n  <tbody>\n    <tr>\n      <th>0</th>\n      <td>1</td>\n      <td>1</td>\n      <td>University of Oxford</td>\n      <td>United Kingdom</td>\n      <td>20,664</td>\n      <td>11.2</td>\n      <td>41%</td>\n      <td>46%</td>\n      <td>54%</td>\n      <td>90.5</td>\n      <td>99.6</td>\n      <td>98.4</td>\n      <td>65.5</td>\n      <td>96.4</td>\n      <td>95.4</td>\n      <td>95.40</td>\n    </tr>\n    <tr>\n      <th>1</th>\n      <td>2</td>\n      <td>2</td>\n      <td>California Institute of Technology</td>\n      <td>United States</td>\n      <td>2,240</td>\n      <td>6.4</td>\n      <td>30%</td>\n      <td>34%</td>\n      <td>66%</td>\n      <td>92.1</td>\n      <td>97.2</td>\n      <td>97.9</td>\n      <td>88.0</td>\n      <td>82.5</td>\n      <td>94.5</td>\n      <td>94.50</td>\n    </tr>\n    <tr>\n      <th>2</th>\n      <td>3</td>\n      <td>3</td>\n      <td>University of Cambridge</td>\n      <td>United Kingdom</td>\n      <td>18,978</td>\n      <td>10.9</td>\n      <td>37%</td>\n      <td>47%</td>\n      <td>53%</td>\n      <td>91.4</td>\n      <td>98.7</td>\n      <td>95.8</td>\n      <td>59.3</td>\n      <td>95.0</td>\n      <td>94.4</td>\n      <td>94.40</td>\n    </tr>\n    <tr>\n      <th>3</th>\n      <td>4</td>\n      <td>4</td>\n      <td>Stanford University</td>\n      <td>United States</td>\n      <td>16,135</td>\n      <td>7.3</td>\n      <td>23%</td>\n      <td>43%</td>\n      <td>57%</td>\n      <td>92.8</td>\n      <td>96.4</td>\n      <td>99.9</td>\n      <td>66.2</td>\n      <td>79.5</td>\n      <td>94.3</td>\n      <td>94.30</td>\n    </tr>\n    <tr>\n      <th>4</th>\n      <td>5</td>\n      <td>5</td>\n      <td>Massachusetts Institute of Technology</td>\n      <td>United States</td>\n      <td>11,247</td>\n      <td>8.6</td>\n      <td>34%</td>\n      <td>39%</td>\n      <td>61%</td>\n      <td>90.5</td>\n      <td>92.4</td>\n      <td>99.5</td>\n      <td>86.9</td>\n      <td>89.0</td>\n      <td>93.6</td>\n      <td>93.60</td>\n    </tr>\n  </tbody>\n</table>\n</div>"
     },
     "metadata": {}
    }
   ]
  },
  {
   "cell_type": "markdown",
   "source": "We can also derive that the second DataFrame, `df2`, has a total of 16 columns. The next process is to prepare the data for analysis by removing unnecessary columns and incomplete data, as well as modify improperly formatted data.\n\n### Data Cleaning - DataFrame 1\n\nThe first DataFrame `df1` initially was a large dataset with 2384 columns. We have went ahead and extracted only selected columns and dropping the rest from the dataset as these are the only ones we will be interacting with. The data dictionary can be found on the same website and should be located in the same ZIP file with an Excel file format. From there we decide to only keep the following columns:\n\n- `INSTM`: Institution name\n- `CITY`: City where the institution is located\n- `STABBR`: State abbreviation where the institution is located\n- `SAT_AVG`: Average SAT equivalent score of students admitted for all campuses\n- `ADM_RATE`: Overall admission rate\n- `TUITIONFEE_IN`: In-state tuition and fees\n- `TUITIONFEE_OUT`: Out-of-state tuition and fees\n- `LATITUDE`: Institution's latitude\n- `LONGITUDE`: Institution's longitude\n\nThese were the columns that were chosen from the inital 2384 columns in the data file.",
   "metadata": {
    "tags": [],
    "cell_id": "00003-83add25b-24db-4294-a8ec-26e3a19189c9",
    "deepnote_cell_type": "markdown"
   }
  },
  {
   "cell_type": "code",
   "metadata": {
    "tags": [],
    "cell_id": "00008-f45b7126-5889-4546-adc3-a11cb6a244fd",
    "deepnote_to_be_reexecuted": false,
    "source_hash": "b336ba82",
    "execution_start": 1624989569161,
    "execution_millis": 199,
    "deepnote_cell_type": "code"
   },
   "source": "#View first few rows\ndf1.head()",
   "execution_count": 4,
   "outputs": [
    {
     "output_type": "execute_result",
     "execution_count": 4,
     "data": {
      "application/vnd.deepnote.dataframe.v2+json": {
       "row_count": 5,
       "column_count": 9,
       "columns": [
        {
         "name": "INSTNM",
         "dtype": "object",
         "stats": {
          "unique_count": 5,
          "nan_count": 0,
          "categories": [
           {
            "name": "Alabama A & M University",
            "count": 1
           },
           {
            "name": "University of Alabama at Birmingham",
            "count": 1
           },
           {
            "name": "3 others",
            "count": 3
           }
          ]
         }
        },
        {
         "name": "CITY",
         "dtype": "object",
         "stats": {
          "unique_count": 4,
          "nan_count": 0,
          "categories": [
           {
            "name": "Montgomery",
            "count": 2
           },
           {
            "name": "Normal",
            "count": 1
           },
           {
            "name": "2 others",
            "count": 2
           }
          ]
         }
        },
        {
         "name": "STABBR",
         "dtype": "object",
         "stats": {
          "unique_count": 1,
          "nan_count": 0,
          "categories": [
           {
            "name": "AL",
            "count": 5
           }
          ]
         }
        },
        {
         "name": "LATITUDE",
         "dtype": "float64",
         "stats": {
          "unique_count": 5,
          "nan_count": 0,
          "min": "32.362609",
          "max": "34.783368",
          "histogram": [
           {
            "bin_start": 32.362609,
            "bin_end": 32.6046849,
            "count": 2
           },
           {
            "bin_start": 32.6046849,
            "bin_end": 32.8467608,
            "count": 0
           },
           {
            "bin_start": 32.8467608,
            "bin_end": 33.0888367,
            "count": 0
           },
           {
            "bin_start": 33.0888367,
            "bin_end": 33.3309126,
            "count": 0
           },
           {
            "bin_start": 33.3309126,
            "bin_end": 33.5729885,
            "count": 1
           },
           {
            "bin_start": 33.5729885,
            "bin_end": 33.815064400000004,
            "count": 0
           },
           {
            "bin_start": 33.815064400000004,
            "bin_end": 34.0571403,
            "count": 0
           },
           {
            "bin_start": 34.0571403,
            "bin_end": 34.299216200000004,
            "count": 0
           },
           {
            "bin_start": 34.299216200000004,
            "bin_end": 34.5412921,
            "count": 0
           },
           {
            "bin_start": 34.5412921,
            "bin_end": 34.783368,
            "count": 2
           }
          ]
         }
        },
        {
         "name": "LONGITUDE",
         "dtype": "float64",
         "stats": {
          "unique_count": 5,
          "nan_count": 0,
          "min": "-86.799345",
          "max": "-86.17401",
          "histogram": [
           {
            "bin_start": -86.799345,
            "bin_end": -86.7368115,
            "count": 1
           },
           {
            "bin_start": -86.7368115,
            "bin_end": -86.674278,
            "count": 0
           },
           {
            "bin_start": -86.674278,
            "bin_end": -86.6117445,
            "count": 1
           },
           {
            "bin_start": -86.6117445,
            "bin_end": -86.549211,
            "count": 1
           },
           {
            "bin_start": -86.549211,
            "bin_end": -86.4866775,
            "count": 0
           },
           {
            "bin_start": -86.4866775,
            "bin_end": -86.424144,
            "count": 0
           },
           {
            "bin_start": -86.424144,
            "bin_end": -86.3616105,
            "count": 0
           },
           {
            "bin_start": -86.3616105,
            "bin_end": -86.299077,
            "count": 0
           },
           {
            "bin_start": -86.299077,
            "bin_end": -86.2365435,
            "count": 1
           },
           {
            "bin_start": -86.2365435,
            "bin_end": -86.17401,
            "count": 1
           }
          ]
         }
        },
        {
         "name": "ADM_RATE",
         "dtype": "float64",
         "stats": {
          "unique_count": 4,
          "nan_count": 1,
          "min": "0.8087",
          "max": "0.9774",
          "histogram": [
           {
            "bin_start": 0.8087,
            "bin_end": 0.82557,
            "count": 1
           },
           {
            "bin_start": 0.82557,
            "bin_end": 0.84244,
            "count": 0
           },
           {
            "bin_start": 0.84244,
            "bin_end": 0.85931,
            "count": 0
           },
           {
            "bin_start": 0.85931,
            "bin_end": 0.87618,
            "count": 0
           },
           {
            "bin_start": 0.87618,
            "bin_end": 0.89305,
            "count": 0
           },
           {
            "bin_start": 0.89305,
            "bin_end": 0.9099200000000001,
            "count": 1
           },
           {
            "bin_start": 0.9099200000000001,
            "bin_end": 0.92679,
            "count": 1
           },
           {
            "bin_start": 0.92679,
            "bin_end": 0.94366,
            "count": 0
           },
           {
            "bin_start": 0.94366,
            "bin_end": 0.96053,
            "count": 0
           },
           {
            "bin_start": 0.96053,
            "bin_end": 0.9774,
            "count": 1
           }
          ]
         }
        },
        {
         "name": "SAT_AVG",
         "dtype": "float64",
         "stats": {
          "unique_count": 4,
          "nan_count": 1,
          "min": "957.0",
          "max": "1314.0",
          "histogram": [
           {
            "bin_start": 957,
            "bin_end": 992.7,
            "count": 2
           },
           {
            "bin_start": 992.7,
            "bin_end": 1028.4,
            "count": 0
           },
           {
            "bin_start": 1028.4,
            "bin_end": 1064.1,
            "count": 0
           },
           {
            "bin_start": 1064.1,
            "bin_end": 1099.8,
            "count": 0
           },
           {
            "bin_start": 1099.8,
            "bin_end": 1135.5,
            "count": 0
           },
           {
            "bin_start": 1135.5,
            "bin_end": 1171.2,
            "count": 0
           },
           {
            "bin_start": 1171.2,
            "bin_end": 1206.9,
            "count": 0
           },
           {
            "bin_start": 1206.9,
            "bin_end": 1242.6,
            "count": 1
           },
           {
            "bin_start": 1242.6,
            "bin_end": 1278.3,
            "count": 0
           },
           {
            "bin_start": 1278.3,
            "bin_end": 1314,
            "count": 1
           }
          ]
         }
        },
        {
         "name": "TUITIONFEE_IN",
         "dtype": "float64",
         "stats": {
          "unique_count": 5,
          "nan_count": 0,
          "min": "6900.0",
          "max": "11068.0",
          "histogram": [
           {
            "bin_start": 6900,
            "bin_end": 7316.8,
            "count": 1
           },
           {
            "bin_start": 7316.8,
            "bin_end": 7733.6,
            "count": 0
           },
           {
            "bin_start": 7733.6,
            "bin_end": 8150.4,
            "count": 0
           },
           {
            "bin_start": 8150.4,
            "bin_end": 8567.2,
            "count": 0
           },
           {
            "bin_start": 8567.2,
            "bin_end": 8984,
            "count": 1
           },
           {
            "bin_start": 8984,
            "bin_end": 9400.8,
            "count": 0
           },
           {
            "bin_start": 9400.8,
            "bin_end": 9817.6,
            "count": 1
           },
           {
            "bin_start": 9817.6,
            "bin_end": 10234.4,
            "count": 0
           },
           {
            "bin_start": 10234.4,
            "bin_end": 10651.2,
            "count": 0
           },
           {
            "bin_start": 10651.2,
            "bin_end": 11068,
            "count": 2
           }
          ]
         }
        },
        {
         "name": "TUITIONFEE_OUT",
         "dtype": "float64",
         "stats": {
          "unique_count": 5,
          "nan_count": 0,
          "min": "6900.0",
          "max": "22362.0",
          "histogram": [
           {
            "bin_start": 6900,
            "bin_end": 8446.2,
            "count": 1
           },
           {
            "bin_start": 8446.2,
            "bin_end": 9992.4,
            "count": 0
           },
           {
            "bin_start": 9992.4,
            "bin_end": 11538.6,
            "count": 0
           },
           {
            "bin_start": 11538.6,
            "bin_end": 13084.8,
            "count": 0
           },
           {
            "bin_start": 13084.8,
            "bin_end": 14631,
            "count": 0
           },
           {
            "bin_start": 14631,
            "bin_end": 16177.2,
            "count": 0
           },
           {
            "bin_start": 16177.2,
            "bin_end": 17723.4,
            "count": 0
           },
           {
            "bin_start": 17723.4,
            "bin_end": 19269.6,
            "count": 1
           },
           {
            "bin_start": 19269.6,
            "bin_end": 20815.800000000003,
            "count": 2
           },
           {
            "bin_start": 20815.800000000003,
            "bin_end": 22362,
            "count": 1
           }
          ]
         }
        },
        {
         "name": "_deepnote_index_column",
         "dtype": "int64"
        }
       ],
       "rows_top": [
        {
         "INSTNM": "Alabama A & M University",
         "CITY": "Normal",
         "STABBR": "AL",
         "LATITUDE": 34.783368,
         "LONGITUDE": -86.568502,
         "ADM_RATE": 0.8986,
         "SAT_AVG": 957,
         "TUITIONFEE_IN": 9744,
         "TUITIONFEE_OUT": 18354,
         "_deepnote_index_column": 0
        },
        {
         "INSTNM": "University of Alabama at Birmingham",
         "CITY": "Birmingham",
         "STABBR": "AL",
         "LATITUDE": 33.505697,
         "LONGITUDE": -86.799345,
         "ADM_RATE": 0.9211,
         "SAT_AVG": 1220,
         "TUITIONFEE_IN": 8568,
         "TUITIONFEE_OUT": 19704,
         "_deepnote_index_column": 1
        },
        {
         "INSTNM": "Amridge University",
         "CITY": "Montgomery",
         "STABBR": "AL",
         "LATITUDE": 32.362609,
         "LONGITUDE": -86.17401,
         "ADM_RATE": "nan",
         "SAT_AVG": "nan",
         "TUITIONFEE_IN": 6900,
         "TUITIONFEE_OUT": 6900,
         "_deepnote_index_column": 2
        },
        {
         "INSTNM": "University of Alabama in Huntsville",
         "CITY": "Huntsville",
         "STABBR": "AL",
         "LATITUDE": 34.724557,
         "LONGITUDE": -86.640449,
         "ADM_RATE": 0.8087,
         "SAT_AVG": 1314,
         "TUITIONFEE_IN": 10714,
         "TUITIONFEE_OUT": 22362,
         "_deepnote_index_column": 3
        },
        {
         "INSTNM": "Alabama State University",
         "CITY": "Montgomery",
         "STABBR": "AL",
         "LATITUDE": 32.364317,
         "LONGITUDE": -86.295677,
         "ADM_RATE": 0.9774,
         "SAT_AVG": 972,
         "TUITIONFEE_IN": 11068,
         "TUITIONFEE_OUT": 19396,
         "_deepnote_index_column": 4
        }
       ],
       "rows_bottom": null
      },
      "text/plain": "                                INSTNM        CITY STABBR   LATITUDE  \\\n0             Alabama A & M University      Normal     AL  34.783368   \n1  University of Alabama at Birmingham  Birmingham     AL  33.505697   \n2                   Amridge University  Montgomery     AL  32.362609   \n3  University of Alabama in Huntsville  Huntsville     AL  34.724557   \n4             Alabama State University  Montgomery     AL  32.364317   \n\n   LONGITUDE  ADM_RATE  SAT_AVG  TUITIONFEE_IN  TUITIONFEE_OUT  \n0 -86.568502    0.8986    957.0         9744.0         18354.0  \n1 -86.799345    0.9211   1220.0         8568.0         19704.0  \n2 -86.174010       NaN      NaN         6900.0          6900.0  \n3 -86.640449    0.8087   1314.0        10714.0         22362.0  \n4 -86.295677    0.9774    972.0        11068.0         19396.0  ",
      "text/html": "<div>\n<style scoped>\n    .dataframe tbody tr th:only-of-type {\n        vertical-align: middle;\n    }\n\n    .dataframe tbody tr th {\n        vertical-align: top;\n    }\n\n    .dataframe thead th {\n        text-align: right;\n    }\n</style>\n<table border=\"1\" class=\"dataframe\">\n  <thead>\n    <tr style=\"text-align: right;\">\n      <th></th>\n      <th>INSTNM</th>\n      <th>CITY</th>\n      <th>STABBR</th>\n      <th>LATITUDE</th>\n      <th>LONGITUDE</th>\n      <th>ADM_RATE</th>\n      <th>SAT_AVG</th>\n      <th>TUITIONFEE_IN</th>\n      <th>TUITIONFEE_OUT</th>\n    </tr>\n  </thead>\n  <tbody>\n    <tr>\n      <th>0</th>\n      <td>Alabama A &amp; M University</td>\n      <td>Normal</td>\n      <td>AL</td>\n      <td>34.783368</td>\n      <td>-86.568502</td>\n      <td>0.8986</td>\n      <td>957.0</td>\n      <td>9744.0</td>\n      <td>18354.0</td>\n    </tr>\n    <tr>\n      <th>1</th>\n      <td>University of Alabama at Birmingham</td>\n      <td>Birmingham</td>\n      <td>AL</td>\n      <td>33.505697</td>\n      <td>-86.799345</td>\n      <td>0.9211</td>\n      <td>1220.0</td>\n      <td>8568.0</td>\n      <td>19704.0</td>\n    </tr>\n    <tr>\n      <th>2</th>\n      <td>Amridge University</td>\n      <td>Montgomery</td>\n      <td>AL</td>\n      <td>32.362609</td>\n      <td>-86.174010</td>\n      <td>NaN</td>\n      <td>NaN</td>\n      <td>6900.0</td>\n      <td>6900.0</td>\n    </tr>\n    <tr>\n      <th>3</th>\n      <td>University of Alabama in Huntsville</td>\n      <td>Huntsville</td>\n      <td>AL</td>\n      <td>34.724557</td>\n      <td>-86.640449</td>\n      <td>0.8087</td>\n      <td>1314.0</td>\n      <td>10714.0</td>\n      <td>22362.0</td>\n    </tr>\n    <tr>\n      <th>4</th>\n      <td>Alabama State University</td>\n      <td>Montgomery</td>\n      <td>AL</td>\n      <td>32.364317</td>\n      <td>-86.295677</td>\n      <td>0.9774</td>\n      <td>972.0</td>\n      <td>11068.0</td>\n      <td>19396.0</td>\n    </tr>\n  </tbody>\n</table>\n</div>"
     },
     "metadata": {}
    }
   ]
  },
  {
   "cell_type": "markdown",
   "source": "Now `df1` only contains the 9 columns we have defined and only contain data that is relevant to the U.S. college recommender system project.\n\n### Data Cleaning - DataFrame 2\n\nWe will be taking similar steps for `df2`. The data dictionary for `df2` can be found on the same link as the file download. Since we already have most of the information for the universities broken down in a much more detailed manner in `df1`, we will simply be using this DataFrame for the university rankings. Hence, the columns that are most relevant for this Data are the following:\n\n- `Rank_Char`: Ranking according to The Times Higher Education\n- `University`: Name of the university\n- `Country`: Country of the university\n\nUsing these three columns, we will be able to further filter both the rows and the columns within `df2` to only contain data on univesities that are located within United States by filtering the `Country` column. In other words, we can drop all data of universities that are not located in the United States. Once filtered by country, we actually no longer need to see the `Country` column as all the columns will show \"United States\" and becomes irrelevant to the dataset. We can then drop the `Country` column and only keep the remaining two.",
   "metadata": {
    "tags": [],
    "cell_id": "00008-6b112f07-1099-4e49-995a-0337e5a50297",
    "deepnote_cell_type": "markdown"
   }
  },
  {
   "cell_type": "code",
   "metadata": {
    "tags": [],
    "cell_id": "00002-a8f6108f-48d0-4275-bde0-9086cc15b2cf",
    "deepnote_to_be_reexecuted": false,
    "source_hash": "8634b63b",
    "execution_start": 1624989569350,
    "execution_millis": 1,
    "deepnote_cell_type": "code"
   },
   "source": "# Filter rows and columns\ndf2 = df2.loc[df2[\"Country\"] == \"United States\"][[\"Rank_Char\", \"University\"]]",
   "execution_count": 5,
   "outputs": []
  },
  {
   "cell_type": "code",
   "metadata": {
    "tags": [],
    "cell_id": "00011-c97eef00-27d3-4c10-b30c-4fd2c558aa53",
    "deepnote_to_be_reexecuted": false,
    "source_hash": "4ff00ec1",
    "execution_start": 1624989569351,
    "execution_millis": 50,
    "deepnote_cell_type": "code"
   },
   "source": "#View first few rows\ndf2.head()",
   "execution_count": 6,
   "outputs": [
    {
     "output_type": "execute_result",
     "execution_count": 6,
     "data": {
      "application/vnd.deepnote.dataframe.v2+json": {
       "row_count": 5,
       "column_count": 2,
       "columns": [
        {
         "name": "Rank_Char",
         "dtype": "object",
         "stats": {
          "unique_count": 5,
          "nan_count": 0,
          "categories": [
           {
            "name": "2",
            "count": 1
           },
           {
            "name": "4",
            "count": 1
           },
           {
            "name": "3 others",
            "count": 3
           }
          ]
         }
        },
        {
         "name": "University",
         "dtype": "object",
         "stats": {
          "unique_count": 5,
          "nan_count": 0,
          "categories": [
           {
            "name": "California Institute of Technology",
            "count": 1
           },
           {
            "name": "Stanford University",
            "count": 1
           },
           {
            "name": "3 others",
            "count": 3
           }
          ]
         }
        },
        {
         "name": "_deepnote_index_column",
         "dtype": "int64"
        }
       ],
       "rows_top": [
        {
         "Rank_Char": "2",
         "University": "California Institute of Technology",
         "_deepnote_index_column": 1
        },
        {
         "Rank_Char": "4",
         "University": "Stanford University",
         "_deepnote_index_column": 3
        },
        {
         "Rank_Char": "5",
         "University": "Massachusetts Institute of Technology",
         "_deepnote_index_column": 4
        },
        {
         "Rank_Char": "6",
         "University": "Princeton University",
         "_deepnote_index_column": 5
        },
        {
         "Rank_Char": "7",
         "University": "Harvard University",
         "_deepnote_index_column": 6
        }
       ],
       "rows_bottom": null
      },
      "text/plain": "  Rank_Char                             University\n1         2     California Institute of Technology\n3         4                    Stanford University\n4         5  Massachusetts Institute of Technology\n5         6                   Princeton University\n6         7                     Harvard University",
      "text/html": "<div>\n<style scoped>\n    .dataframe tbody tr th:only-of-type {\n        vertical-align: middle;\n    }\n\n    .dataframe tbody tr th {\n        vertical-align: top;\n    }\n\n    .dataframe thead th {\n        text-align: right;\n    }\n</style>\n<table border=\"1\" class=\"dataframe\">\n  <thead>\n    <tr style=\"text-align: right;\">\n      <th></th>\n      <th>Rank_Char</th>\n      <th>University</th>\n    </tr>\n  </thead>\n  <tbody>\n    <tr>\n      <th>1</th>\n      <td>2</td>\n      <td>California Institute of Technology</td>\n    </tr>\n    <tr>\n      <th>3</th>\n      <td>4</td>\n      <td>Stanford University</td>\n    </tr>\n    <tr>\n      <th>4</th>\n      <td>5</td>\n      <td>Massachusetts Institute of Technology</td>\n    </tr>\n    <tr>\n      <th>5</th>\n      <td>6</td>\n      <td>Princeton University</td>\n    </tr>\n    <tr>\n      <th>6</th>\n      <td>7</td>\n      <td>Harvard University</td>\n    </tr>\n  </tbody>\n</table>\n</div>"
     },
     "metadata": {}
    }
   ]
  },
  {
   "cell_type": "markdown",
   "source": "Now, `df2` only contains universities that are located in the United States and only display the two columns that are needed, the `Rank_Char` and `University` column. However, a new problem arises as we see that the `Rank_Char` column is not an integer column and instead contains string values. We can view the problem by analyzing all the unique value in the `Rank_Char` column.",
   "metadata": {
    "tags": [],
    "cell_id": "00012-abe5fdbe-93a0-48bb-a4c8-ede4a30abed9",
    "deepnote_cell_type": "markdown"
   }
  },
  {
   "cell_type": "code",
   "metadata": {
    "tags": [],
    "cell_id": "00013-d0e99f41-4570-42ef-ad79-f0fd800594a8",
    "deepnote_to_be_reexecuted": false,
    "source_hash": "8858bc6f",
    "execution_start": 1624989569438,
    "execution_millis": 7,
    "deepnote_cell_type": "code"
   },
   "source": "# View all unique values\ndf2['Rank_Char'].unique()",
   "execution_count": 7,
   "outputs": [
    {
     "output_type": "execute_result",
     "execution_count": 7,
     "data": {
      "text/plain": "array(['2', '4', '5', '6', '7', '8', '9', '11', '12', '13', '16', '17',\n       '19', '20', '21', '22', '26', '27', '29', '31', '38', '48', '51',\n       '52', '53', '54', '55', '57', '61', '62', '70', '78', '79', '80',\n       '84', '88', '91', '94', '96', '102', '104', '105', '107', '113',\n       '116', '119', '124', '134', '139', '155', '157', '168', '172',\n       '173', '175', '178', '179', '198', '201�250', '251�300', '301�350',\n       '351�400', '401�500', '501�600', '601�800', '801�1000', '1001+'],\n      dtype=object)"
     },
     "metadata": {}
    }
   ]
  },
  {
   "cell_type": "markdown",
   "source": "After further investigation, it is understood that some values are not integers because some values within the `Rank_Char` column are written as a range. In the case of a range, we will take the middle value, for example the university ranking will be 275 for universities in the ranking range of 251 to 300. The rankings also end at 1000, so all universities above that range is communicated as 1001+. For this, we will set a uniform value of 1001 for all universities above the range of 1001..",
   "metadata": {
    "tags": [],
    "cell_id": "00015-e44a97ff-09a1-4c76-a2f4-462740bce2a7",
    "deepnote_cell_type": "markdown"
   }
  },
  {
   "cell_type": "code",
   "metadata": {
    "tags": [],
    "cell_id": "00014-aad7664b-dbdd-4ddb-977b-08f0e6e05108",
    "deepnote_to_be_reexecuted": false,
    "source_hash": "825e88a7",
    "execution_start": 1624989569439,
    "execution_millis": 43,
    "deepnote_cell_type": "code"
   },
   "source": "# Replace values\ndf2[\"Rank_Char\"].replace(\n    {\n        \"201�250\": 225,\n        \"251�300\": 275,\n        \"301�350\": 325,\n        \"351�400\": 375,\n        \"401�500\": 425,\n        \"501�600\": 525,\n        \"601�800\": 700,\n        \"801�1000\": 900,\n        \"1001+\": 1001,\n    },\n    inplace=True,\n)\n\n# Convert column type\ndf2['Rank_Char'] = pd.to_numeric(df2['Rank_Char'])",
   "execution_count": 8,
   "outputs": []
  },
  {
   "cell_type": "code",
   "metadata": {
    "tags": [],
    "cell_id": "00015-b4a570a4-5390-4ae7-bdcc-c54dae13aa38",
    "deepnote_to_be_reexecuted": false,
    "source_hash": "3686e746",
    "execution_start": 1624989569482,
    "execution_millis": 11,
    "deepnote_cell_type": "code"
   },
   "source": "# Check all unique values\ndf2['Rank_Char'].unique()",
   "execution_count": 9,
   "outputs": [
    {
     "output_type": "execute_result",
     "execution_count": 9,
     "data": {
      "text/plain": "array([   2,    4,    5,    6,    7,    8,    9,   11,   12,   13,   16,\n         17,   19,   20,   21,   22,   26,   27,   29,   31,   38,   48,\n         51,   52,   53,   54,   55,   57,   61,   62,   70,   78,   79,\n         80,   84,   88,   91,   94,   96,  102,  104,  105,  107,  113,\n        116,  119,  124,  134,  139,  155,  157,  168,  172,  173,  175,\n        178,  179,  198,  225,  275,  325,  375,  425,  525,  700,  900,\n       1001])"
     },
     "metadata": {}
    }
   ]
  },
  {
   "cell_type": "markdown",
   "source": "We have succesfully replaced all value ranges into integers using the `replace()` function and the dictionary, as well as converting the rest of the values to numeric values. Now, we can see that the unique values no longer include any strings. Finally, `df2` is now ready to use. \n\n### Data Merging\n\nWe are now ready to combining the two DataFrames into a single DataFrame, which we will call `df`. The two DataFrames will be merged on the university name, the column is called `INSTNM` on `df1` and `University` on `df2`. We will only include universities that have a rank.",
   "metadata": {
    "tags": [],
    "cell_id": "00017-56950dbe-dde4-4e53-807b-39a5a293570e",
    "deepnote_cell_type": "markdown"
   }
  },
  {
   "cell_type": "code",
   "metadata": {
    "tags": [],
    "cell_id": "00003-00856346-8425-4094-9a28-87e32d75ff91",
    "deepnote_to_be_reexecuted": false,
    "source_hash": "4272479c",
    "execution_start": 1624989569483,
    "execution_millis": 3,
    "deepnote_cell_type": "code"
   },
   "source": "# Merge DataFrames\ndf = df1.merge(df2, how='inner', left_on='INSTNM', right_on='University')\ndel df['University']",
   "execution_count": 10,
   "outputs": []
  },
  {
   "cell_type": "code",
   "metadata": {
    "tags": [],
    "cell_id": "00019-97c0f4b6-6402-479a-bdf3-db10a1aed065",
    "deepnote_to_be_reexecuted": false,
    "source_hash": "43486258",
    "execution_start": 1624989569494,
    "execution_millis": 103,
    "deepnote_cell_type": "code"
   },
   "source": "# View first few rows\ndf.head()",
   "execution_count": 11,
   "outputs": [
    {
     "output_type": "execute_result",
     "execution_count": 11,
     "data": {
      "application/vnd.deepnote.dataframe.v2+json": {
       "row_count": 5,
       "column_count": 10,
       "columns": [
        {
         "name": "INSTNM",
         "dtype": "object",
         "stats": {
          "unique_count": 5,
          "nan_count": 0,
          "categories": [
           {
            "name": "University of Alabama at Birmingham",
            "count": 1
           },
           {
            "name": "University of Alabama in Huntsville",
            "count": 1
           },
           {
            "name": "3 others",
            "count": 3
           }
          ]
         }
        },
        {
         "name": "CITY",
         "dtype": "object",
         "stats": {
          "unique_count": 5,
          "nan_count": 0,
          "categories": [
           {
            "name": "Birmingham",
            "count": 1
           },
           {
            "name": "Huntsville",
            "count": 1
           },
           {
            "name": "3 others",
            "count": 3
           }
          ]
         }
        },
        {
         "name": "STABBR",
         "dtype": "object",
         "stats": {
          "unique_count": 3,
          "nan_count": 0,
          "categories": [
           {
            "name": "AL",
            "count": 3
           },
           {
            "name": "AK",
            "count": 1
           },
           {
            "name": "AZ",
            "count": 1
           }
          ]
         }
        },
        {
         "name": "LATITUDE",
         "dtype": "float64",
         "stats": {
          "unique_count": 5,
          "nan_count": 0,
          "min": "32.232672",
          "max": "64.85756",
          "histogram": [
           {
            "bin_start": 32.232672,
            "bin_end": 35.4951608,
            "count": 4
           },
           {
            "bin_start": 35.4951608,
            "bin_end": 38.7576496,
            "count": 0
           },
           {
            "bin_start": 38.7576496,
            "bin_end": 42.02013840000001,
            "count": 0
           },
           {
            "bin_start": 42.02013840000001,
            "bin_end": 45.28262720000001,
            "count": 0
           },
           {
            "bin_start": 45.28262720000001,
            "bin_end": 48.54511600000001,
            "count": 0
           },
           {
            "bin_start": 48.54511600000001,
            "bin_end": 51.80760480000001,
            "count": 0
           },
           {
            "bin_start": 51.80760480000001,
            "bin_end": 55.07009360000001,
            "count": 0
           },
           {
            "bin_start": 55.07009360000001,
            "bin_end": 58.33258240000001,
            "count": 0
           },
           {
            "bin_start": 58.33258240000001,
            "bin_end": 61.59507120000001,
            "count": 0
           },
           {
            "bin_start": 61.59507120000001,
            "bin_end": 64.85756,
            "count": 1
           }
          ]
         }
        },
        {
         "name": "LONGITUDE",
         "dtype": "float64",
         "stats": {
          "unique_count": 5,
          "nan_count": 0,
          "min": "-147.823146",
          "max": "-85.488258",
          "histogram": [
           {
            "bin_start": -147.823146,
            "bin_end": -141.5896572,
            "count": 1
           },
           {
            "bin_start": -141.5896572,
            "bin_end": -135.3561684,
            "count": 0
           },
           {
            "bin_start": -135.3561684,
            "bin_end": -129.1226796,
            "count": 0
           },
           {
            "bin_start": -129.1226796,
            "bin_end": -122.88919080000001,
            "count": 0
           },
           {
            "bin_start": -122.88919080000001,
            "bin_end": -116.655702,
            "count": 0
           },
           {
            "bin_start": -116.655702,
            "bin_end": -110.4222132,
            "count": 1
           },
           {
            "bin_start": -110.4222132,
            "bin_end": -104.18872440000001,
            "count": 0
           },
           {
            "bin_start": -104.18872440000001,
            "bin_end": -97.95523560000001,
            "count": 0
           },
           {
            "bin_start": -97.95523560000001,
            "bin_end": -91.7217468,
            "count": 0
           },
           {
            "bin_start": -91.7217468,
            "bin_end": -85.488258,
            "count": 3
           }
          ]
         }
        },
        {
         "name": "ADM_RATE",
         "dtype": "float64",
         "stats": {
          "unique_count": 5,
          "nan_count": 0,
          "min": "0.7543",
          "max": "0.9211",
          "histogram": [
           {
            "bin_start": 0.7543,
            "bin_end": 0.77098,
            "count": 2
           },
           {
            "bin_start": 0.77098,
            "bin_end": 0.78766,
            "count": 0
           },
           {
            "bin_start": 0.78766,
            "bin_end": 0.8043399999999999,
            "count": 0
           },
           {
            "bin_start": 0.8043399999999999,
            "bin_end": 0.82102,
            "count": 1
           },
           {
            "bin_start": 0.82102,
            "bin_end": 0.8377,
            "count": 0
           },
           {
            "bin_start": 0.8377,
            "bin_end": 0.85438,
            "count": 1
           },
           {
            "bin_start": 0.85438,
            "bin_end": 0.8710600000000001,
            "count": 0
           },
           {
            "bin_start": 0.8710600000000001,
            "bin_end": 0.88774,
            "count": 0
           },
           {
            "bin_start": 0.88774,
            "bin_end": 0.90442,
            "count": 0
           },
           {
            "bin_start": 0.90442,
            "bin_end": 0.9211,
            "count": 1
           }
          ]
         }
        },
        {
         "name": "SAT_AVG",
         "dtype": "float64",
         "stats": {
          "unique_count": 5,
          "nan_count": 0,
          "min": "1128.0",
          "max": "1314.0",
          "histogram": [
           {
            "bin_start": 1128,
            "bin_end": 1146.6,
            "count": 1
           },
           {
            "bin_start": 1146.6,
            "bin_end": 1165.2,
            "count": 0
           },
           {
            "bin_start": 1165.2,
            "bin_end": 1183.8,
            "count": 0
           },
           {
            "bin_start": 1183.8,
            "bin_end": 1202.4,
            "count": 1
           },
           {
            "bin_start": 1202.4,
            "bin_end": 1221,
            "count": 1
           },
           {
            "bin_start": 1221,
            "bin_end": 1239.6,
            "count": 0
           },
           {
            "bin_start": 1239.6,
            "bin_end": 1258.2,
            "count": 0
           },
           {
            "bin_start": 1258.2,
            "bin_end": 1276.8,
            "count": 0
           },
           {
            "bin_start": 1276.8,
            "bin_end": 1295.4,
            "count": 1
           },
           {
            "bin_start": 1295.4,
            "bin_end": 1314,
            "count": 1
           }
          ]
         }
        },
        {
         "name": "TUITIONFEE_IN",
         "dtype": "float64",
         "stats": {
          "unique_count": 5,
          "nan_count": 0,
          "min": "6657.0",
          "max": "12467.0",
          "histogram": [
           {
            "bin_start": 6657,
            "bin_end": 7238,
            "count": 1
           },
           {
            "bin_start": 7238,
            "bin_end": 7819,
            "count": 0
           },
           {
            "bin_start": 7819,
            "bin_end": 8400,
            "count": 0
           },
           {
            "bin_start": 8400,
            "bin_end": 8981,
            "count": 1
           },
           {
            "bin_start": 8981,
            "bin_end": 9562,
            "count": 0
           },
           {
            "bin_start": 9562,
            "bin_end": 10143,
            "count": 0
           },
           {
            "bin_start": 10143,
            "bin_end": 10724,
            "count": 1
           },
           {
            "bin_start": 10724,
            "bin_end": 11305,
            "count": 1
           },
           {
            "bin_start": 11305,
            "bin_end": 11886,
            "count": 0
           },
           {
            "bin_start": 11886,
            "bin_end": 12467,
            "count": 1
           }
          ]
         }
        },
        {
         "name": "TUITIONFEE_OUT",
         "dtype": "float64",
         "stats": {
          "unique_count": 5,
          "nan_count": 0,
          "min": "19704.0",
          "max": "36366.0",
          "histogram": [
           {
            "bin_start": 19704,
            "bin_end": 21370.2,
            "count": 2
           },
           {
            "bin_start": 21370.2,
            "bin_end": 23036.4,
            "count": 1
           },
           {
            "bin_start": 23036.4,
            "bin_end": 24702.6,
            "count": 0
           },
           {
            "bin_start": 24702.6,
            "bin_end": 26368.8,
            "count": 0
           },
           {
            "bin_start": 26368.8,
            "bin_end": 28035,
            "count": 0
           },
           {
            "bin_start": 28035,
            "bin_end": 29701.2,
            "count": 0
           },
           {
            "bin_start": 29701.2,
            "bin_end": 31367.4,
            "count": 1
           },
           {
            "bin_start": 31367.4,
            "bin_end": 33033.6,
            "count": 0
           },
           {
            "bin_start": 33033.6,
            "bin_end": 34699.8,
            "count": 0
           },
           {
            "bin_start": 34699.8,
            "bin_end": 36366,
            "count": 1
           }
          ]
         }
        },
        {
         "name": "Rank_Char",
         "dtype": "int64",
         "stats": {
          "unique_count": 5,
          "nan_count": 0,
          "min": "104",
          "max": "700",
          "histogram": [
           {
            "bin_start": 104,
            "bin_end": 163.6,
            "count": 1
           },
           {
            "bin_start": 163.6,
            "bin_end": 223.2,
            "count": 1
           },
           {
            "bin_start": 223.2,
            "bin_end": 282.8,
            "count": 0
           },
           {
            "bin_start": 282.8,
            "bin_end": 342.4,
            "count": 0
           },
           {
            "bin_start": 342.4,
            "bin_end": 402,
            "count": 1
           },
           {
            "bin_start": 402,
            "bin_end": 461.6,
            "count": 0
           },
           {
            "bin_start": 461.6,
            "bin_end": 521.2,
            "count": 0
           },
           {
            "bin_start": 521.2,
            "bin_end": 580.8,
            "count": 1
           },
           {
            "bin_start": 580.8,
            "bin_end": 640.4,
            "count": 0
           },
           {
            "bin_start": 640.4,
            "bin_end": 700,
            "count": 1
           }
          ]
         }
        },
        {
         "name": "_deepnote_index_column",
         "dtype": "int64"
        }
       ],
       "rows_top": [
        {
         "INSTNM": "University of Alabama at Birmingham",
         "CITY": "Birmingham",
         "STABBR": "AL",
         "LATITUDE": 33.505697,
         "LONGITUDE": -86.799345,
         "ADM_RATE": 0.9211,
         "SAT_AVG": 1220,
         "TUITIONFEE_IN": 8568,
         "TUITIONFEE_OUT": 19704,
         "Rank_Char": 172,
         "_deepnote_index_column": 0
        },
        {
         "INSTNM": "University of Alabama in Huntsville",
         "CITY": "Huntsville",
         "STABBR": "AL",
         "LATITUDE": 34.724557,
         "LONGITUDE": -86.640449,
         "ADM_RATE": 0.8087,
         "SAT_AVG": 1314,
         "TUITIONFEE_IN": 10714,
         "TUITIONFEE_OUT": 22362,
         "Rank_Char": 525,
         "_deepnote_index_column": 1
        },
        {
         "INSTNM": "Auburn University",
         "CITY": "Auburn",
         "STABBR": "AL",
         "LATITUDE": 32.599378,
         "LONGITUDE": -85.488258,
         "ADM_RATE": 0.7543,
         "SAT_AVG": 1289,
         "TUITIONFEE_IN": 11276,
         "TUITIONFEE_OUT": 30524,
         "Rank_Char": 700,
         "_deepnote_index_column": 2
        },
        {
         "INSTNM": "University of Alaska Fairbanks",
         "CITY": "Fairbanks",
         "STABBR": "AK",
         "LATITUDE": 64.85756,
         "LONGITUDE": -147.823146,
         "ADM_RATE": 0.7611,
         "SAT_AVG": 1128,
         "TUITIONFEE_IN": 6657,
         "TUITIONFEE_OUT": 20218,
         "Rank_Char": 375,
         "_deepnote_index_column": 3
        },
        {
         "INSTNM": "University of Arizona",
         "CITY": "Tucson",
         "STABBR": "AZ",
         "LATITUDE": 32.232672,
         "LONGITUDE": -110.950815,
         "ADM_RATE": 0.8442,
         "SAT_AVG": 1198,
         "TUITIONFEE_IN": 12467,
         "TUITIONFEE_OUT": 36366,
         "Rank_Char": 104,
         "_deepnote_index_column": 4
        }
       ],
       "rows_bottom": null
      },
      "text/plain": "                                INSTNM        CITY STABBR   LATITUDE  \\\n0  University of Alabama at Birmingham  Birmingham     AL  33.505697   \n1  University of Alabama in Huntsville  Huntsville     AL  34.724557   \n2                    Auburn University      Auburn     AL  32.599378   \n3       University of Alaska Fairbanks   Fairbanks     AK  64.857560   \n4                University of Arizona      Tucson     AZ  32.232672   \n\n    LONGITUDE  ADM_RATE  SAT_AVG  TUITIONFEE_IN  TUITIONFEE_OUT  Rank_Char  \n0  -86.799345    0.9211   1220.0         8568.0         19704.0        172  \n1  -86.640449    0.8087   1314.0        10714.0         22362.0        525  \n2  -85.488258    0.7543   1289.0        11276.0         30524.0        700  \n3 -147.823146    0.7611   1128.0         6657.0         20218.0        375  \n4 -110.950815    0.8442   1198.0        12467.0         36366.0        104  ",
      "text/html": "<div>\n<style scoped>\n    .dataframe tbody tr th:only-of-type {\n        vertical-align: middle;\n    }\n\n    .dataframe tbody tr th {\n        vertical-align: top;\n    }\n\n    .dataframe thead th {\n        text-align: right;\n    }\n</style>\n<table border=\"1\" class=\"dataframe\">\n  <thead>\n    <tr style=\"text-align: right;\">\n      <th></th>\n      <th>INSTNM</th>\n      <th>CITY</th>\n      <th>STABBR</th>\n      <th>LATITUDE</th>\n      <th>LONGITUDE</th>\n      <th>ADM_RATE</th>\n      <th>SAT_AVG</th>\n      <th>TUITIONFEE_IN</th>\n      <th>TUITIONFEE_OUT</th>\n      <th>Rank_Char</th>\n    </tr>\n  </thead>\n  <tbody>\n    <tr>\n      <th>0</th>\n      <td>University of Alabama at Birmingham</td>\n      <td>Birmingham</td>\n      <td>AL</td>\n      <td>33.505697</td>\n      <td>-86.799345</td>\n      <td>0.9211</td>\n      <td>1220.0</td>\n      <td>8568.0</td>\n      <td>19704.0</td>\n      <td>172</td>\n    </tr>\n    <tr>\n      <th>1</th>\n      <td>University of Alabama in Huntsville</td>\n      <td>Huntsville</td>\n      <td>AL</td>\n      <td>34.724557</td>\n      <td>-86.640449</td>\n      <td>0.8087</td>\n      <td>1314.0</td>\n      <td>10714.0</td>\n      <td>22362.0</td>\n      <td>525</td>\n    </tr>\n    <tr>\n      <th>2</th>\n      <td>Auburn University</td>\n      <td>Auburn</td>\n      <td>AL</td>\n      <td>32.599378</td>\n      <td>-85.488258</td>\n      <td>0.7543</td>\n      <td>1289.0</td>\n      <td>11276.0</td>\n      <td>30524.0</td>\n      <td>700</td>\n    </tr>\n    <tr>\n      <th>3</th>\n      <td>University of Alaska Fairbanks</td>\n      <td>Fairbanks</td>\n      <td>AK</td>\n      <td>64.857560</td>\n      <td>-147.823146</td>\n      <td>0.7611</td>\n      <td>1128.0</td>\n      <td>6657.0</td>\n      <td>20218.0</td>\n      <td>375</td>\n    </tr>\n    <tr>\n      <th>4</th>\n      <td>University of Arizona</td>\n      <td>Tucson</td>\n      <td>AZ</td>\n      <td>32.232672</td>\n      <td>-110.950815</td>\n      <td>0.8442</td>\n      <td>1198.0</td>\n      <td>12467.0</td>\n      <td>36366.0</td>\n      <td>104</td>\n    </tr>\n  </tbody>\n</table>\n</div>"
     },
     "metadata": {}
    }
   ]
  },
  {
   "cell_type": "markdown",
   "source": "Now the two DataFrames are merged into one called `df`. It originally contained 11 columns but `University` was dropped as it contains duplicate values with column `INSTNM`. The DataFrame now contains 10 columns in which we will use to build a U.S. College Recommender System.\n\n## Building the Recommender System\n\n### User Input\n\nUsers will be able to interact with the recommender system to input their data. We will be using `Streamlit` dashboard for interactive widgets. Data that users need to input are:\n\n- `student_status`: Refers to the way the user was enrolled in (International, Local In-State, or Local Out-of-State)\n- `sat_score`: User's SAT score in the 1600 range\n- `max_tuition`: The maximum tuition that the user would accept\n- `pref_locations`: User's preferred college locations\n- `scale_tuition`: The importance of tuition match in user's college selection from a scale of 1(lowest) to 10(highest)\n- `scale_sat`: The importance of SAT match in user's college selection from a scale of 1(lowest) to 10(highest)\n- `scale_admission`: The importance of admission rate in user's college selection from a scale of 1(lowest) to 10(highest)\n- `scale_rank`: The importance of college ranking in user's college selection from a scale of 1(lowest) to 10(highest)\n\nAll these inputs are interactive and can be displayed in different types of widgets on `Streamlit`.",
   "metadata": {
    "tags": [],
    "cell_id": "00020-c9697428-b48c-4308-8495-1d722f9b664f",
    "deepnote_cell_type": "markdown"
   }
  },
  {
   "cell_type": "code",
   "metadata": {
    "tags": [],
    "cell_id": "00008-8a98d2f4-67b6-4315-98c6-7bda10a067b4",
    "deepnote_to_be_reexecuted": false,
    "source_hash": "913b24b7",
    "execution_start": 1624989569592,
    "execution_millis": 17,
    "deepnote_cell_type": "code"
   },
   "source": "# Function for user input\ndef user_input1():\n    # Define student status\n    student_status = st.selectbox('Select your student status: ', ['Choose an option', 'International', 'Local In-State', 'Local Out-of-State'])\n    \n    # Define SAT score\n    sat_score = st.number_input('Input your SAT score: ', min_value=0, max_value=1600)\n\n    # Define maximum tuition\n    min_value = int(min(df['TUITIONFEE_IN'].min(), df['TUITIONFEE_OUT'].min()))\n    max_value = int(max(df['TUITIONFEE_IN'].max(), df['TUITIONFEE_OUT'].max()))\n    max_tuition = st.slider('Select the maximum tuition you would accept: ', min_value= min_value, max_value= max_value, value = 10000)\n\n    # Define preffered location - Multiselect widget\n    locations = np.append(df['STABBR'].unique(), \"All\")\n    pref_locations = st.multiselect(\"Select your preferred location(s): \", locations, help=\"Data will be filtered according to the counties selected. Select \\\"All\\\" or none to view data from all counties.\")\n    \n    # If preferred location is All or None\n    if ('All' in pref_locations) or (len(pref_locations) == 0):\n        pref_locations = df['STABBR'].unique()\n\n    return student_status, sat_score, max_tuition, pref_locations",
   "execution_count": 12,
   "outputs": []
  },
  {
   "cell_type": "code",
   "metadata": {
    "tags": [],
    "cell_id": "00022-bdb0c0da-84df-45a5-8bfa-f681a44ab910",
    "deepnote_to_be_reexecuted": false,
    "source_hash": "7b96d324",
    "execution_start": 1624989569615,
    "execution_millis": 14,
    "deepnote_cell_type": "code"
   },
   "source": "def user_input2():\n    # Define variable importance from 1 to 10\n    scale_tuition = st.slider(\"From a scale of 1 (lowest) to 10 (highest), rate the importance of a low tuition rate in your college search: \", min_value=1, max_value=10, value=5)\n    scale_sat = st.slider(\"From a scale of 1 (lowest) to 10 (highest), rate the importance of an SAT match in your college search: \", min_value=1, max_value=10, value=5)\n    scale_admission = st.slider(\"From a scale of 1 (lowest) to 10 (highest), rate the importance of a high admission rate in your college search: \", min_value=1, max_value=10, value=5)\n    scale_rank = st.slider(\"From a scale of 1 (lowest) to 10 (highest), rate the importance of a high college ranking in your college search: \", min_value=1, max_value=10, value=5)\n\n    return scale_tuition, scale_sat, scale_admission, scale_rank",
   "execution_count": 13,
   "outputs": []
  },
  {
   "cell_type": "markdown",
   "source": "The function above calls for users to input their data through the use of various interactive widgets. The user input is divided into two sections for aesthetic purposes: `user_input1()` and `user_input2()`.\n\nIn the first function `user_input1()`, the `student_status` is a select box that allows for the users to choose out of the 3 available options. This will allow the users to just select one out of the three instead inputting their own text. The default is an added option of 'Choose your option' that holds no value but a placeholder for the default index. When users do not select out of the 3 actual available options, they are not able to derive their data\n\nThe `sat_score` is a number input widget with a minimum value of 0 and maximum value of 1600 as it is the range of the SAT score. \n\nThe `max_tuition` utilizes the slider widget that allows user to select a tuition that is within the minimum and maximum range. It takes a numerical data as range input with minimum be the smallest value in the `TUITIONFEE_IN` or `TUITIONFEE_OUT` column (whichever is lower) and the maximum being the highest value between the same two columns (whichever is highest). \n\nThe `pref_locations` is a multiselect box which allows users to select multiple locations as their preferred college location. The options are all unique values from the `STABBR` column, which contains 44 unique state abbreviations, and an option to select 'All'. If a user selects 'All' in their preferred location or does not select any, it will not filter the data by any specific value and instead takes all state abbreviations that are unique in the DataFrame as its value.\n\nIn the next function `user_input2()`,  the `scale_tuition`, `scale_sat`, `scale_admission`, and `scale_rank` all uses a slider option with range between minimum of 1, lowest importance, to maximum of 10, highest importance. User's are able to determine what their top priorities are within their college selection process.\n\nThe function will then return all of the variables listed above and the first four (`student_status`, `sat_score`, `max_tuition`, and `pref_locations`) will be used to filter the DataFrame.\n\n### Filter DataFrame by User Input\n\nWe would want to filter the DataFrame for all universities that are located in the user's preferred location(s), accept applicants with equivalent or lower average SAT scores with the user's SAT score, and charge a tuition rate that is lower than or equivalent to their maximum tuition rate.",
   "metadata": {
    "tags": [],
    "cell_id": "00022-53608a07-9048-4283-9ded-71a0b2141b0f",
    "deepnote_cell_type": "markdown"
   }
  },
  {
   "cell_type": "code",
   "metadata": {
    "tags": [],
    "cell_id": "00023-929c0c55-6cb3-4cce-bb9a-81aceba177a7",
    "deepnote_to_be_reexecuted": false,
    "source_hash": "f99da0a9",
    "execution_start": 1624989569636,
    "execution_millis": 12,
    "deepnote_cell_type": "code"
   },
   "source": "def decide_tuition_category (student_status):\n    tuition_category = ''\n    # Tuition based on student status\n    if student_status == 'International' or student_status == 'Local Out-of-State':\n        tuition_category = 'TUITIONFEE_OUT' # Use out-of-state tuition\n    elif student_status == 'Local In-State':\n        tuition_category = 'TUITIONFEE_IN' # Use in-state tuition\n    \n    return tuition_category",
   "execution_count": 14,
   "outputs": []
  },
  {
   "cell_type": "markdown",
   "source": "The function will filter for the tuition rate that is below or equivalent to the maximum tuition the user will accept, it must be taken into account that we shold use out-of-state tuition for international or local out-of-state applicants and in-state tuition for local in-state applicants, as these prices adjust to the student status. Hence, we create a function that decides on the `tuition_category`.",
   "metadata": {
    "tags": [],
    "cell_id": "00025-645552d4-1015-4207-9c2b-38fd87ab9190",
    "deepnote_cell_type": "markdown"
   }
  },
  {
   "cell_type": "code",
   "metadata": {
    "tags": [],
    "cell_id": "00007-de8b0e13-37ef-4408-8769-7ab7f48df3a7",
    "deepnote_to_be_reexecuted": false,
    "source_hash": "8ebbc4d5",
    "execution_start": 1624989569656,
    "execution_millis": 13,
    "deepnote_cell_type": "code"
   },
   "source": "def filter_data (sat_score, max_tuition, pref_locations, tuition_category):\n    # Filter DataFrame\n    mask = (df['STABBR'].isin(pref_locations)) & (df['SAT_AVG'] <= sat_score) & (df[tuition_category] <= max_tuition)\n    filtered_df = df.loc[mask]\n    \n    return filtered_df",
   "execution_count": 15,
   "outputs": []
  },
  {
   "cell_type": "markdown",
   "source": "The function takes the values returned by the `user_input` function above and filters the data accordingly. Lastly, we filtered for universities that have an average SAT score that is lower than or equivalent to the user's SAT score to ensure that the SAT scores are aligned. The function then returns a filtered DataFrame, `filtered_df` and the variable `tuition_category` as it will be used to determine which tuition rate to use in future functions.\n\n### Normalize Columns\n\nNow that we have a function to filter the DataFrame, we also need to create a function to normalize certain columns within that DataFrame so that we can generate a score. We see that our data are all measured in different scales. The goal of normalization is to make every datapoint have the same scale so each feature is equally important. This is important because otherwise the feature with the larger scale will completely dominate the rest of the data.\n\nWe will be doing a min-max normalization as it is one of the most common ways to normalize data. Min-max normalization performs a linear transformation on the original data. How it works is that for every feature, the minimum value of that feature gets transformed into a 0, the maximum value gets transformed into a 1, and every other value gets transformed into a decimal between 0 and 1. The formula can be written as follow:\n\n> $v_i = (v_i - min_A) / (max_A - min_A)$\n\nwhere $v_i$ is the value, $min_A$ is minimum value in the attribute, and $max_A$ is the maximum value in the attribute. We will be using `sklearn.preprocessing.MinMaxScaler` to transform features by scaling each feature to a given range.",
   "metadata": {
    "tags": [],
    "cell_id": "00024-f25d7b10-26f1-4921-b57d-4aabe60a8972",
    "deepnote_cell_type": "markdown"
   }
  },
  {
   "cell_type": "code",
   "metadata": {
    "tags": [],
    "cell_id": "00010-a0f39059-99de-4abd-bc87-af1f27e5ee3a",
    "deepnote_to_be_reexecuted": false,
    "source_hash": "a0ca6cb7",
    "execution_start": 1624989569676,
    "execution_millis": 22,
    "deepnote_cell_type": "code"
   },
   "source": "# Function to normalize column by min-max scaling\ndef normalize (column):\n    col_array = filtered_df[column].to_numpy()\n    min_max_scaler = preprocessing.MinMaxScaler()\n    col_scaled = min_max_scaler.fit_transform(col_array.reshape(-1, 1))\n    return col_scaled.flatten()",
   "execution_count": 16,
   "outputs": []
  },
  {
   "cell_type": "markdown",
   "source": "The `normalize` function will take into a column and conver it to a numpy array. Using the `MinMaxScaler()` and `fit_transform` the column into the scaler to fit to data, then transform it to a transformed version of X. We also needed to reshape the column to a way that the colun array has only 1 column to fit into the scaler. This allows us to get an array of scaled values. We then need to use the `flatten()` function is used to get a copy of an given array collapsed into one dimension, which will later be used in the actual recommendation score calculation.\n\nWe will normalize the following columns: `SAT_AVG`, `TUITIONFEE_OUT` or `TUITIONFEE_IN` (depending on the status of the student), and `Rank_Char`.\n\n### Calculating Weight of Importance\n\nWhen asking for user input, we also asked for the importance of each variable to their college search. It was given to them as a scale of 1 to 10, where 1 is lowest and 10 is highest. To use this number, we need to convert it into a ratio to assess how much each variable actually weighs.",
   "metadata": {
    "tags": [],
    "cell_id": "00026-3a7ea468-d28b-4ce9-9025-84421e7a4340",
    "deepnote_cell_type": "markdown"
   }
  },
  {
   "cell_type": "code",
   "metadata": {
    "tags": [],
    "cell_id": "00010-7a57181b-6479-45bc-a90c-25bade97700c",
    "deepnote_to_be_reexecuted": false,
    "source_hash": "a70e0ec0",
    "execution_start": 1624989569729,
    "execution_millis": 15,
    "deepnote_cell_type": "code"
   },
   "source": "# Function to calculate weight of importance of variables\ndef calculate_weight(variable):\n    return variable / sum([scale_tuition, scale_sat, scale_admission, scale_rank])",
   "execution_count": 17,
   "outputs": []
  },
  {
   "cell_type": "markdown",
   "source": "We take the user_input for each variable and divide the number by the sum of the scale. For example, the user inputs 10, 10, 10, 10 for all respective variables, this means that each variable weighs 10/(10 + 10 + 10 + 10) or 0.25 as each of them has the same importance. If the user inputs 10, 9, 7, 5 then variable one would weight 10/(10 + 9 + 7 + 5) or 0.32.\n\n### Calculate University Compatibility Scores\n\nWith everything already set up, we can now calculate the compatibility scores, which measures how much of a match each university is to the user's data and preference. To calculate each individual score, the following formula will be used:\n\n>score = weight_tuition \\* (1 - tuition) +  weight_sat \\* (1 - sat average) + weight_admission \\* admission + weight_rank \\* (1 - rank)\n\nWe will be using the scaled DataFrame to generate these scores. First, it is understood that the lower the tuition, the higher the compatibility score will be, which proposes an inverse relationship. The lower the tuition rate is, the more attractive for most people and hence more compatible, this explains why we calculate tuition as 1 - tuition. If the user highly prioritize tuition match in their college search, then the `weight_tuition` will be the highest compared to others. The higher the weight for the tuition then the results will return more colleges with lower tuition.\n\nSame for SAT score, we would want the lowest average SAT score as an average SAT score that is lower than the user's SAT score will increase the chances of the user being admitted. Hence, it has an inverse relationship with compatibility. Similarly, `weight_sat` depends on the user and how safe they want to be in determining their SAT match. The higher the weight for the SAT then the results will return more colleges with lower average SAT.\n\nAdmission rates however have a positive relationship with compatibility score as a higher admission rate increases chance of users being admitted to a college. The `weight_admission` depends on how safe they want to be in terms of admission match. The higher the weight for the admission then the results will return more colleges with higher admission rate.\n\nRankings also have an inverse relationship with compatibility score as a smaller ranking indicates a better college. If the user wants to be in a college with a high ranking (i.e. lower number) will have a higher `weight_rank`.  The higher the weight for the rank then the results will return more colleges with higher rankings (i.e. lower number).",
   "metadata": {
    "tags": [],
    "cell_id": "00028-d64cbffd-32d1-40ad-8440-1c249fe8260b",
    "deepnote_cell_type": "markdown"
   }
  },
  {
   "cell_type": "code",
   "metadata": {
    "tags": [],
    "cell_id": "00008-77f75832-b075-4522-8c9e-096215faf8a7",
    "deepnote_to_be_reexecuted": false,
    "source_hash": "330b7294",
    "execution_start": 1624989569790,
    "execution_millis": 0,
    "deepnote_cell_type": "code"
   },
   "source": "# Function to pull top scores\ndef calculate_scores ():\n    \n    # Define empty dictionary\n    scores = {}\n\n    # Convert DataFrame to list\n    university_names = filtered_df['INSTNM'].tolist()\n    sat_avgs = normalize('SAT_AVG')\n    admissions = filtered_df['ADM_RATE'].tolist()\n    tuitions = normalize(tuition_category)\n    ranks = normalize('Rank_Char')\n\n    # Calculate weight of each variable\n    weight_tuition = calculate_weight(scale_tuition)\n    weight_sat = calculate_weight(scale_sat)\n    weight_admission = calculate_weight(scale_admission)\n    weight_rank = calculate_weight(scale_rank)\n\n    # Calculate scores\n    for i in range(len(filtered_df)):\n        scores[university_names[i]] = weight_tuition * (1 - tuitions[i]) +  weight_sat * (1 - sat_avgs[i]) + weight_admission * admissions[i] + weight_rank * (1 - ranks[i])\n\n    return scores",
   "execution_count": 18,
   "outputs": []
  },
  {
   "cell_type": "markdown",
   "source": "Once we have all the scores calculated for each university stored in a dictionary called `scores`, we can sort the values in descending order and pull the top 5. These universities are the most compatible to the user's data and preferences.",
   "metadata": {
    "tags": [],
    "cell_id": "00030-9eef5579-a8e4-4a06-a252-9eb817f63c44",
    "deepnote_cell_type": "markdown"
   }
  },
  {
   "cell_type": "code",
   "metadata": {
    "tags": [],
    "cell_id": "00030-2d8c0d08-c17c-4bf6-a078-478091934cc6",
    "deepnote_to_be_reexecuted": false,
    "source_hash": "c28b267b",
    "execution_start": 1624989569791,
    "execution_millis": 0,
    "deepnote_cell_type": "code"
   },
   "source": "def top_scores (scores):\n    # Sort universities by top 5 scores\n    top5 = sorted(scores.items(), key=lambda x: x[1], reverse=True)[:5]\n    \n    # Only extract university name into list\n    top5 = [name for x in top5 for name in x[::2]]\n\n    return top5",
   "execution_count": 19,
   "outputs": []
  },
  {
   "cell_type": "markdown",
   "source": "The `top5` list contains the college name and the compatibility score, we only need the college name in a list sorted by the score, hence we can just take the name into the list. We will then be able to locate the college names in the original DataFrame to pull the original data for the users to view and explore.\n\n## Streamlit Dashboard\n\n### Streamlit Features\n\nStreamlit is a great new tool that allows users to quickly build highly interactive web applications around their data without much knowledge on web development. The use of Streamlit for this project enhances the user experience as they are able to access the data via a user-friendly web page.\n\nAlthough Streamlit is helpful in displaying data, charts, and utilzing interactive widgets, there are some features that Streamlit is still in the process of developing. One of them is a multi-page feature. They have not yet launched a feature for a multi-page app so many in the community found a work around by using select boxes or radio buttons on the sidebar and pages that are embedded into functions to mimick the use of a navigation bar.\n\nWe will be doing this for our dashboard to give the look that the Streamlit dashboard has multiple pages when actually it is the content that is changing. We will have a total of 3 pages accessible from the navigation bar: Main, Explore the Database, and the College Recommender System.\n\n### Page One - Main Page\n\nThe main page serves as welcome page that contains information regarding the purpose of the project, information about the college recommender system, and information about the data. It also features a welcome banner. The main page is stored in a function called `page_one()`.",
   "metadata": {
    "tags": [],
    "cell_id": "00032-95230166-140f-4ebb-ab3f-33ab0d44e9fd",
    "deepnote_cell_type": "markdown"
   }
  },
  {
   "cell_type": "code",
   "metadata": {
    "tags": [],
    "cell_id": "00037-dd08d1f8-6c60-479e-9405-b95d483e7292",
    "deepnote_to_be_reexecuted": false,
    "source_hash": "4221368e",
    "execution_start": 1624989569834,
    "execution_millis": 0,
    "deepnote_cell_type": "code"
   },
   "source": "def page_one():\n    # Title and name\n    st.title('MA346 Summer 2021 - Final Project')\n    st.write(\"by: Josephine Kantawiria - MA346 Summer 2021\")\n\n    # Welcome banner image\n    st.image('WelcomeBanner.png')\n\n    # Purpose of Project\n    st.subheader(\"Purpose of Project\")\n    st.markdown(''' Choosing a college is one of the major decisions every student needs to make as\n    it plays a pivotal role in their career and life. However, choosing an appropriate college\n    can be challenging. The college selection process also require a lot of searching work. This project\n    will focus on assisting students in choosing their college based on basic variables. It will provide\n    the user with top 5 U.S. colleges that are deemed most suitable for the student's preference and\n    eligibility, which the user can input.''')\n    st.write()\n\n    # Information about the College Recommender System\n    st.subheader(\"About the College Recommender System\")\n    st.markdown('''Users will be asked to input information such as: preferred location,\n    SAT score, maximum tuition that they would accept, as well as their student status\n    (if they are international, local out of state, or local in state). As many individuals\n    have different needs and concerns about their college eligibility and requirements, users\n    are also able to weigh the importance of each of the predictor variables from a scale of 1 to 10.\n    This college recommender system will then evaluate these different factors and display the top 5\n    U.S. college recommendations in the most user-friendly design.''')\n    st.write()\n\n    # Information about the Data\n    st.subheader(\"Information about the Data\")\n    st.markdown('''For this project, we will be using two datasets - both in CSV file format.\n    The first dataset can be accessed through the [U.S. Depatment of Education]\n    (https://data.ed.gov/dataset/college-scorecard-all-data-files-through-6-2020/resources) under\n    the College Scorecard project resources. The College Scorecard provides data files with data\n    about institutions as a whole and data files with data about specific fields of study within\n    institutions. We will be using the first dataset that provide all data elements. Many data\n    elements within the two data files are drawn directly from, or derived from, data reported\n    to the Integrated Postsecondary Education Data System (IPEDS). The data also came with a data\n    dictionary, which will be broken down later.''')\n    st.markdown('''The second dataset can be accessed from [kaggle.com]\n    (https://www.kaggle.com/joeshamen/world-university-rankings-2020). It is a dataset that comprises\n    the ranking of the best universities of the world made by The Times Higher Education for 2020.\n    It includes almost 1,400 universities across 92 countries, standing as the largest and most\n    diverse university rankings ever to date. The rankings are determined based on 13 performance\n    indicators that measure an institution’s performance across teaching, research, knowledge\n    transfer and international outlook. The university ranking also has been independently audited\n    by professional services firm PricewaterhouseCoopers. This information will be used to determine\n    the rankings of the universities listed in the first dataframe, providing a more holistic view\n    of the university's performance.''')\n\n    # More Information\n    st.subheader(\"More Information on Project\")\n    st.markdown('''More information can be found [here](https://github.com/JosephineKantawiria/MA346-FinalProject) on my GitHub repo.''')",
   "execution_count": 20,
   "outputs": []
  },
  {
   "cell_type": "markdown",
   "source": "### Page Two - Explore the Data\n\nThe second page consist of the DataFrame and a map. In this page, users are able to scroll through all the data and view their locations on the map. This page is stored in a function called `page_two()`.",
   "metadata": {
    "tags": [],
    "cell_id": "00037-3104aa07-2d25-4439-9754-910ece7c5da2",
    "deepnote_cell_type": "markdown"
   }
  },
  {
   "cell_type": "code",
   "metadata": {
    "tags": [],
    "cell_id": "00038-636d9744-4480-4496-8fcb-6f25d5c9fd9f",
    "deepnote_to_be_reexecuted": false,
    "source_hash": "f351d4c",
    "execution_start": 1624989569835,
    "execution_millis": 940523,
    "deepnote_cell_type": "code"
   },
   "source": "def page_two():\n    # Title\n    st.title('Explore the Data')\n\n    # DataFrame to display\n    df_display = df[['INSTNM', 'CITY', 'Rank_Char', 'SAT_AVG', 'ADM_RATE', 'TUITIONFEE_IN', 'TUITIONFEE_OUT']]\n\n    # Rename columns\n    df_display.columns = ['College Name', 'City', 'Rank', 'Average SAT Score', 'Admission Rate', 'Tuition Rate (In-State)', 'Tuition Rate (Out-of-State)']\n\n    # DataFrame for map\n    df_map = df[['LATITUDE', 'LONGITUDE']]\n    df_map.columns = ['lat', 'lon']\n\n    # Display DataFrame\n    st.dataframe(df_display.sort_values(by=['Rank']))\n\n    # Display map\n    st.map(df_map)",
   "execution_count": 21,
   "outputs": []
  },
  {
   "cell_type": "markdown",
   "source": "### Page Three - College Recommender System\n\nThe college recommender system is located in its own page. It is actually divided into two parts, `page_three_a` and `page_three_b`. It is divided into two for aesthetic reasons as `page_three_b` will only appear after clicking the 'Next' button at the end of `page_three_a`.\n\nIn `page_three_a` the page is also divided into two column with a buffer column in the middle used as padding. This is done to allow the two user input functions to be placed next to each other and takes up less space. However, as a result of splitting the page into two parts, we need to make the variables within the page functions as a global function so that it is able to be accessed from outside of the function. Some functions in `page_three_b` uses these variables in its calculations.\n\nAt the end of  `page_three_a`, there is a button that says 'Next'. This button is what will activate the `page_three_b` function. However, after the user finishes filling out all of their data and there are no matches within `filtered_df`, it will instead return an error message.",
   "metadata": {
    "tags": [],
    "cell_id": "00039-60c27fed-69d7-4af7-8c90-39625fe0a193",
    "deepnote_cell_type": "markdown"
   }
  },
  {
   "cell_type": "code",
   "metadata": {
    "tags": [],
    "cell_id": "00038-09bde3d0-da26-463a-9f48-fed7d4e6b238",
    "deepnote_to_be_reexecuted": false,
    "source_hash": "b7b37e2d",
    "execution_start": 1624989569878,
    "execution_millis": 0,
    "deepnote_cell_type": "code"
   },
   "source": "def page_three_a():\n   # Title\n   st.title('College Recommender System')\n   \n   # Horizontal line\n   st.markdown('''---''')\n\n   # Create first row\n   row1 = st.beta_container()\n\n   # Split columns\n   col1, buff, col2 = st.beta_columns([10, 1, 10])\n   \n   # Row 1, Col 1\n   with row1:\n      with col1:\n         # Call first user_input function\n         student_status, sat_score, max_tuition, pref_locations = user_input1()\n\n   # Row 1, Col 2\n   with row1:\n      with col2:\n         # Global variable\n         global scale_tuition, scale_sat, scale_admission, scale_rank\n         # Call second user input function\n         scale_tuition, scale_sat, scale_admission, scale_rank = user_input2()\n         \n         # Do not proceed if information is incomplete\n         if student_status != 'Choose an option':\n            # Global variable\n            global tuition_category\n            # Call function to decide tuition category based on student status\n            tuition_category = decide_tuition_category(student_status)\n\n            # Global variable\n            global filtered_df\n            # Call function to filter the data\n            filtered_df = filter_data (sat_score, max_tuition, pref_locations, tuition_category)\n\n   # Horizontal line\n   st.markdown('''---''')\n\n   # Create second row\n   row2 = st.beta_container()\n\n   # Row 2\n   with row2:\n      # Create button\n      if st.button('Next'):\n         # If there is no data\n         if student_status == 'Choose an option' or len(filtered_df) == 0:\n            # Error message\n            st.error('Sorry, no university matches for you currently.')\n         # If there is data\n         else:\n            # Activate next page\n            page_three_b()",
   "execution_count": 22,
   "outputs": []
  },
  {
   "cell_type": "markdown",
   "source": "If there are matches, the next page is activated and will continue to calculate the scores for all the universities in `filtered_df` and return the top 5 universities based on highest compatibility score. The information will be shown in a DataFrame with renamed column headers and an index that starts from 1. It will also generate a map below it to point to where the institution is located. The map is interactive and users can zoom in and out to view the points.",
   "metadata": {
    "tags": [],
    "cell_id": "00041-930154f8-f99c-4135-ba41-f685ebcbf936",
    "deepnote_cell_type": "markdown"
   }
  },
  {
   "cell_type": "code",
   "metadata": {
    "tags": [],
    "cell_id": "00039-f2bcf1f0-54fd-4106-96ac-1b88c4ecf9cc",
    "deepnote_to_be_reexecuted": false,
    "source_hash": "e539fe73",
    "execution_start": 1624989569889,
    "execution_millis": 28,
    "deepnote_cell_type": "code"
   },
   "source": "def page_three_b():\n    # Call function to calculate scores\n    scores = calculate_scores()\n\n    # Call function to pull top 5 college names based on highest scores\n    top5 = top_scores(scores)\n\n    # DataFrame to display\n    top5_df_display = df.loc[df['INSTNM'].isin(top5),['INSTNM', 'CITY', 'Rank_Char', 'SAT_AVG', 'ADM_RATE', tuition_category]]\n    \n    # Rename columns\n    top5_df_display.columns = ['College Name', 'City', 'Rank', 'Average SAT Score', 'Admission Rate', 'Tuition Rate']\n    \n    # Reset index to start at 1\n    top5_df_display.index = np.arange(1, len(top5_df_display) + 1)\n\n    # DataFrame for map\n    top5_df_map = df.loc[df['INSTNM'].isin(top5),['LATITUDE', 'LONGITUDE']]\n    top5_df_map.columns = ['lat', 'lon']\n\n    # Display DataFrame\n    st.dataframe(top5_df_display)\n\n    # Display Map\n    st.map(top5_df_map)",
   "execution_count": 23,
   "outputs": []
  },
  {
   "cell_type": "markdown",
   "source": "### Putting All the Pages Together\n\nTo put everything together, we need to set up a radio button that is locted on the sidebar as a way to mimick the navigation bar look. The radio button has three buttons that the user can choose from as mentioned above, which coresponds to the page chosen. The default is at the main page.",
   "metadata": {
    "tags": [],
    "cell_id": "00043-abedac54-5ff6-44f1-9e1e-8f252255456f",
    "deepnote_cell_type": "markdown"
   }
  },
  {
   "cell_type": "code",
   "metadata": {
    "tags": [],
    "cell_id": "00011-576dc32e-a554-4a67-bfaa-e5f08fdcaf66",
    "deepnote_to_be_reexecuted": false,
    "source_hash": "c651d9b1",
    "execution_start": 1624989569923,
    "execution_millis": 1722,
    "deepnote_cell_type": "code"
   },
   "source": "page = st.sidebar.radio('Navigation Bar', ('Main', 'Explore the Data', 'College Recommender System'))\n\nif page == 'Main':\n    page_one()\nif page == 'Explore the Data':\n    page_two()\nif page == 'College Recommender System':\n    page_three_a()",
   "execution_count": 24,
   "outputs": [
    {
     "name": "stderr",
     "text": "2021-06-29 17:59:30.324 \n  \u001b[33m\u001b[1mWarning:\u001b[0m to view this Streamlit app on a browser, run it with the following\n  command:\n\n    streamlit run /shared-libs/python3.7/py-core/lib/python3.7/site-packages/ipykernel_launcher.py [ARGUMENTS]\n",
     "output_type": "stream"
    }
   ]
  },
  {
   "cell_type": "markdown",
   "source": "## Conclusion\n\nNow we have a completed college recommender system that returns the top 5 universities based on the user's data. The complete rundown is as follow: The user is first asked to select their student status which will determine which tuition rate category to be used, in-state or out-of-state. The user will then be asked to input their SAT score in the 1600 range. Followed by that, the user can use the slider to select the maximum tuition they would accept, the minimum tuition is the lowest tuition derived from the DataFrame and the maximum is the highest tuition derived from the DataFrame. The user is then asked to select their preferred location(s) using a multi-select box widget. The user has the option to choose 'All' or select none to filter for all locations, or choose as many locations as they want from the options of states. After that the user will be prompted to select the level of importance from a scale of 1 (lowest) to 10(highest) for tuition rate, SAT match, admission rate, and college ranking. Once completed, the user can press next.\n\nThe college recommender system will then evaluate all these factors and insert it into the given formula to calculate a compatibility score between 0 to 1, with 1 being the most compatible.\n\n### More Information\n\nTo check out the fully functioning Streamlit dashboard, please visit [this link](https://josephinekantawiria.herokuapp.com). More information can be found [here](https://github.com/JosephineKantawiria/MA346_FinalProject) on my GitHub repo.",
   "metadata": {
    "tags": [],
    "cell_id": "00045-fabc502b-ec6e-4bd2-833b-203444062cf0",
    "deepnote_cell_type": "markdown"
   }
  },
  {
   "cell_type": "code",
   "metadata": {
    "tags": [],
    "cell_id": "00012-b5167feb-c73e-463c-83b7-42195f7640c7",
    "deepnote_to_be_reexecuted": false,
    "source_hash": "bbb9edfa",
    "execution_start": 1624989571652,
    "execution_millis": 3339,
    "deepnote_cell_type": "code"
   },
   "source": "!jupyter nbconvert --to script FinalProject.ipynb",
   "execution_count": 25,
   "outputs": [
    {
     "name": "stdout",
     "text": "[NbConvertApp] Converting notebook FinalProject.ipynb to script\n[NbConvertApp] Writing 12473 bytes to FinalProject.txt\n",
     "output_type": "stream"
    }
   ]
  },
  {
   "cell_type": "markdown",
   "source": "<a style='text-decoration:none;line-height:16px;display:flex;color:#5B5B62;padding:10px;justify-content:end;' href='https://deepnote.com?utm_source=created-in-deepnote-cell&projectId=11720eb9-b5e7-4041-bb0b-ca4065cfb8e6' target=\"_blank\">\n<img alt='Created in deepnote.com' style='display:inline;max-height:16px;margin:0px;margin-right:7.5px;' src='data:image/svg+xml;base64,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' > </img>\nCreated in <span style='font-weight:600;margin-left:4px;'>Deepnote</span></a>",
   "metadata": {
    "tags": [],
    "created_in_deepnote_cell": true,
    "deepnote_cell_type": "markdown"
   }
  }
 ],
 "nbformat": 4,
 "nbformat_minor": 2,
 "metadata": {
  "orig_nbformat": 2,
  "deepnote": {
   "is_reactive": false
  },
  "deepnote_notebook_id": "aaeeeccb-b514-43cc-b765-93555783f70e",
  "deepnote_execution_queue": []
 }
}